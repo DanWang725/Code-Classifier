{
 "cells": [
  {
   "cell_type": "markdown",
   "metadata": {},
   "source": [
    "## Downgrading Pickle Files\n",
    "\n",
    "Ran into this issue, this notebook handles it"
   ]
  },
  {
   "cell_type": "code",
   "execution_count": null,
   "metadata": {},
   "outputs": [],
   "source": [
    "import os\n",
    "import pandas as pd\n",
    "import re\n",
    "from random import sample\n",
    "import numpy\n",
    "print(numpy.__version__)\n",
    "\n",
    "# downgraded numpy is 1.24.4"
   ]
  },
  {
   "cell_type": "code",
   "execution_count": null,
   "metadata": {},
   "outputs": [],
   "source": [
    "questions = pd.read_pickle('../extract/vl-2016-deepseek-1.code.pkl')\n",
    "print(questions)"
   ]
  },
  {
   "cell_type": "code",
   "execution_count": null,
   "metadata": {},
   "outputs": [],
   "source": [
    "base_name = \"../extract/vl-2016-deepseek-\"\n",
    "destination = \"../data/ai-code/vl-2016-deepseek-\"\n",
    "ext = \".code.pkl\"\n",
    "tmpExt = \".tmp.csv\"\n",
    "numCopies = 5\n",
    "path = os.path.abspath(base_name)\n",
    "print(path)\n"
   ]
  },
  {
   "cell_type": "code",
   "execution_count": null,
   "metadata": {},
   "outputs": [],
   "source": [
    "for x in range(1, numCopies + 1):\n",
    "  tmp = pd.read_pickle(base_name + str(x) + ext)\n",
    "  tmp.to_csv(base_name + str(x) + tmpExt)"
   ]
  },
  {
   "cell_type": "code",
   "execution_count": null,
   "metadata": {},
   "outputs": [],
   "source": [
    "#downgraded numpy\n",
    "for x in range(1, numCopies + 1):\n",
    "  tmp = pd.read_csv(base_name + str(x) + tmpExt, index_col=0)\n",
    "  os.rename(path + str(x) + ext, path + str(x) + ext + \".bak\")\n",
    "  tmp.to_pickle(destination + str(x) + ext)\n",
    "  print(\"did\" + str(x))\n",
    "  os.rename(path + str(x) + tmpExt, path + str(x) + tmpExt + \".bak\")"
   ]
  },
  {
   "cell_type": "code",
   "execution_count": null,
   "metadata": {},
   "outputs": [],
   "source": [
    "tmp = pd.read_csv(base_name + str(1) + tmpExt, index_col=0)\n",
    "print(tmp)"
   ]
  },
  {
   "cell_type": "code",
   "execution_count": null,
   "metadata": {},
   "outputs": [],
   "source": []
  }
 ],
 "metadata": {
  "kernelspec": {
   "display_name": "venv",
   "language": "python",
   "name": "python3"
  },
  "language_info": {
   "codemirror_mode": {
    "name": "ipython",
    "version": 3
   },
   "file_extension": ".py",
   "mimetype": "text/x-python",
   "name": "python",
   "nbconvert_exporter": "python",
   "pygments_lexer": "ipython3",
   "version": "3.11.9"
  }
 },
 "nbformat": 4,
 "nbformat_minor": 2
}
