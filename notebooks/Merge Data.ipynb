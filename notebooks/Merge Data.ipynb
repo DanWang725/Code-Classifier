{
 "cells": [
  {
   "cell_type": "markdown",
   "id": "8584447a",
   "metadata": {},
   "source": [
    "# Merging Datasets"
   ]
  },
  {
   "cell_type": "code",
   "execution_count": 12,
   "id": "6fb3c478",
   "metadata": {},
   "outputs": [],
   "source": [
    "import pandas as pd\n",
    "import os\n",
    "import sys\n",
    "from tqdm import tqdm\n",
    "tqdm.pandas()\n",
    "data_directory = \"data/\"\n"
   ]
  },
  {
   "cell_type": "markdown",
   "id": "4b0f82c4",
   "metadata": {},
   "source": [
    "## Paired Datasets"
   ]
  },
  {
   "cell_type": "code",
   "execution_count": null,
   "id": "877c6d72-5887-44de-aa78-24995cb4a885",
   "metadata": {},
   "outputs": [
    {
     "name": "stdout",
     "output_type": "stream",
     "text": [
      "C:\\Desktop 2\\Repos\\Code-Classifier\\data\n"
     ]
    }
   ],
   "source": [
    "\n",
    "print(os.path.abspath(data_directory))\n",
    "\n",
    "\n",
    "\n",
    "aiSource = pd.read_csv(data_directory + \"ai-code/output.csv\")"
   ]
  },
  {
   "cell_type": "code",
   "execution_count": 78,
   "id": "95ed7f60",
   "metadata": {},
   "outputs": [
    {
     "name": "stdout",
     "output_type": "stream",
     "text": [
      "    identifier                                               code actual label\n",
      "0   Z5-Z3-4415  \\n#include <stdio.h>\\n#include <stdlib.h>\\n#in...           ai\n",
      "1   Z5-Z3-1132  \\n#include <stdio.h>\\n#include <time.h>\\n\\ntyp...           ai\n",
      "2   Z5-Z2-8794  \\n#include <stdio.h>\\n#include <stdlib.h>\\n\\ni...           ai\n",
      "3   Z5-Z2-3315  \\n#include <stdio.h>\\n\\nint main() {\\n    char...           ai\n",
      "4   Z5-Z2-3186  \\n#include <stdio.h>\\n#include <stdlib.h>\\n\\n#...           ai\n",
      "5   Z5-Z1-7485  \\n#include <stdio.h>\\n#include <stdlib.h>\\n#in...           ai\n",
      "6   Z5-Z1-5298  \\n#include <stdio.h>\\n#include <stdlib.h>\\n\\n/...           ai\n",
      "7   Z5-Z1-3258  \\n#include <stdio.h>\\n\\nint main() {\\n    int ...      ai-0.8t\n",
      "8   Z4-Z4-9318  \\n#include <string>\\nusing namespace std;\\n\\ni...           ai\n",
      "9   Z4-Z4-8774  \\n#include <stdio.h>\\n#include <stdlib.h>\\n\\nv...           ai\n",
      "10  Z4-Z4-7392  \\n#include <vector>\\n#include <string>\\n#inclu...           ai\n",
      "11  Z4-Z3-8794  \\n#include <stdio.h>\\n#include <stdlib.h>\\n#in...           ai\n",
      "12  Z4-Z3-8532  \\n#include <stdio.h>\\n#include <stdlib.h>\\n\\ni...           ai\n",
      "13  Z4-Z3-4766  \\n#include <stdio.h>\\n#include <stdlib.h>\\n\\ni...      ai-0.8t\n",
      "14  Z4-Z2-9188  \\n#include <stdio.h>\\n#include <string.h>\\n\\nc...           ai\n",
      "15  Z4-Z2-5284  \\n#include <stdio.h>\\n#include <stdlib.h>\\n#in...      ai-0.8t\n",
      "16  Z4-Z2-2675  pp\\n#include <iostream>\\n#include <string>\\n#i...           ai\n",
      "17  Z4-Z1-7421  \\n#include <stdio.h>\\n#include <string.h>\\n\\ni...           ai\n",
      "18  Z4-Z1-6956  \\n#include <stdio.h>\\n\\nint main() {\\n    char...      ai-0.8t\n",
      "19  Z4-Z1-5185  pp\\n#include <iostream>\\n#include <vector>\\n#i...           ai\n",
      "20  Z3-Z3-6151  \\n#include <stdio.h>\\n#include <stdlib.h>\\n\\n/...           ai\n",
      "21  Z3-Z3-5612  \\n#include <stdio.h>\\n#include <unordered_set>...      ai-0.8t\n",
      "22  Z3-Z3-2806  pp\\n#include <unordered_map>\\n#include <vector...           ai\n",
      "23  Z3-Z2-9935  pp\\n#include <vector>\\n#include <unordered_set...           ai\n",
      "24  Z3-Z2-8480  \\n#include <stdio.h>\\n#include <math.h>\\n\\nint...           ai\n",
      "25  Z3-Z2-3756  \\n#include <stdio.h>\\n#include <stdlib.h>\\n\\ni...           ai\n",
      "26  Z3-Z1-8670  \\n#include <stdio.h>\\n\\nbool DaLiJeProst(int n...           ai\n",
      "27  Z3-Z1-7597  \\n#include <stdio.h>\\n\\nint DaLiJeProst(int t)...           ai\n",
      "28  Z3-Z1-1477  \\n#include <stdio.h>\\n\\nint da_li_je_broj_pros...           ai\n",
      "29  Z2-Z4-8923  \\nint m, n;\\n\\n// Read input values for m and ...           ai\n",
      "30  Z2-Z4-2925  \\n#include <iostream>\\nusing namespace std;\\n\\...           ai\n",
      "31  Z2-Z4-2086  \\n#include <stdio.h>\\n\\nint main() {\\n    int ...           ai\n",
      "32  Z2-Z3-4192  \\n#include <stdio.h>\\n\\nint main() {\\n    int ...           ai\n",
      "33  Z2-Z3-2574  \\n#include <stdio.h>\\n#include <stdlib.h>\\n\\ni...           ai\n",
      "34  Z2-Z3-2197  \\n#include <stdio.h>\\n\\nint main() {\\n    char...           ai\n",
      "35  Z2-Z2-8532  \\n#include <iostream>\\n#include <climits>\\n\\nu...           ai\n",
      "36  Z2-Z2-5488  \\n#include <cmath>\\n\\ndouble angle; // in radi...      ai-0.8t\n",
      "37  Z2-Z2-3736  \\nint computeSum(int N) {\\n    return (N * N +...           ai\n",
      "38  Z2-Z1-8085  \\nint main()\\n{\\n    int number;\\n    scanf(\"%...      ai-0.8t\n",
      "39  Z2-Z1-6054  \\n#include <stdio.h>\\n#include <stdlib.h>\\n#in...           ai\n",
      "40  Z2-Z1-3517  \\n#include <stdio.h>\\n\\nint main() {\\n    char...           ai\n",
      "41  Z1-Z4-9296  \\nint n = 3;\\nint width = 4 * n - 3;\\nint mid ...           ai\n",
      "42  Z1-Z4-7013  \\n#include <stdio.h>\\n\\nint main() {\\n    int ...           ai\n",
      "43  Z1-Z4-4682  \\n#include <stdio.h>\\n#include <stdlib.h>\\n\\ni...      ai-0.8t\n",
      "44  Z1-Z3-9923  \\n#include <stdio.h>\\n#include <ctype.h>\\n\\nin...           ai\n",
      "45  Z1-Z3-7755  \\n/* Vehicle Color Survey Program */\\n#include...           ai\n",
      "46  Z1-Z3-5581  \\n#include <stdio.h>\\n\\nint main() {\\n    int ...      ai-0.8t\n",
      "47  Z1-Z2-9998  \\n#include <stdio.h>\\n#include <cmath>\\n\\n#def...           ai\n",
      "48  Z1-Z2-4016  \\n#include <stdio.h>\\n#include <stdlib.h>\\n\\ni...      ai-0.8t\n",
      "49  Z1-Z2-1772  pp\\n#include <iostream>\\n#include <sstream>\\n#...           ai\n",
      "50  Z1-Z1-8085  \\nint a, b, c;\\nscanf(\"%d%d%d\", &a, &b, &c);\\n...           ai\n",
      "51  Z1-Z1-4647  \\n#include <stdio.h>\\n#include <stdlib.h>\\n#in...           ai\n",
      "52  Z1-Z1-1066  \\n#include <stdio.h>\\n\\nint main() {\\n    char...           ai\n"
     ]
    }
   ],
   "source": [
    "print(aiSource)\n"
   ]
  },
  {
   "cell_type": "code",
   "execution_count": 79,
   "id": "9f289826",
   "metadata": {},
   "outputs": [
    {
     "name": "stdout",
     "output_type": "stream",
     "text": [
      "0     Z5-Z3-4415\n",
      "1     Z5-Z3-1132\n",
      "2     Z5-Z2-8794\n",
      "3     Z5-Z2-3315\n",
      "4     Z5-Z2-3186\n",
      "5     Z5-Z1-7485\n",
      "6     Z5-Z1-5298\n",
      "7     Z5-Z1-3258\n",
      "8     Z4-Z4-9318\n",
      "9     Z4-Z4-8774\n",
      "10    Z4-Z4-7392\n",
      "11    Z4-Z3-8794\n",
      "12    Z4-Z3-8532\n",
      "13    Z4-Z3-4766\n",
      "14    Z4-Z2-9188\n",
      "15    Z4-Z2-5284\n",
      "16    Z4-Z2-2675\n",
      "17    Z4-Z1-7421\n",
      "18    Z4-Z1-6956\n",
      "19    Z4-Z1-5185\n",
      "20    Z3-Z3-6151\n",
      "21    Z3-Z3-5612\n",
      "22    Z3-Z3-2806\n",
      "23    Z3-Z2-9935\n",
      "24    Z3-Z2-8480\n",
      "25    Z3-Z2-3756\n",
      "26    Z3-Z1-8670\n",
      "27    Z3-Z1-7597\n",
      "28    Z3-Z1-1477\n",
      "29    Z2-Z4-8923\n",
      "30    Z2-Z4-2925\n",
      "31    Z2-Z4-2086\n",
      "32    Z2-Z3-4192\n",
      "33    Z2-Z3-2574\n",
      "34    Z2-Z3-2197\n",
      "35    Z2-Z2-8532\n",
      "36    Z2-Z2-5488\n",
      "37    Z2-Z2-3736\n",
      "38    Z2-Z1-8085\n",
      "39    Z2-Z1-6054\n",
      "40    Z2-Z1-3517\n",
      "41    Z1-Z4-9296\n",
      "42    Z1-Z4-7013\n",
      "43    Z1-Z4-4682\n",
      "44    Z1-Z3-9923\n",
      "45    Z1-Z3-7755\n",
      "46    Z1-Z3-5581\n",
      "47    Z1-Z2-9998\n",
      "48    Z1-Z2-4016\n",
      "49    Z1-Z2-1772\n",
      "50    Z1-Z1-8085\n",
      "51    Z1-Z1-4647\n",
      "52    Z1-Z1-1066\n",
      "Name: identifier, dtype: object\n"
     ]
    }
   ],
   "source": [
    "print(aiSource['identifier'])"
   ]
  },
  {
   "cell_type": "code",
   "execution_count": 80,
   "id": "bc6b8e5e",
   "metadata": {},
   "outputs": [
    {
     "name": "stderr",
     "output_type": "stream",
     "text": [
      "100%|█████████████████████████████████████████████████████████████████████████████████████████████████████████████████████████████████████████████████████████████████████████████████████████████████| 53/53 [00:00<00:00, 1664.66it/s]"
     ]
    },
    {
     "name": "stdout",
     "output_type": "stream",
     "text": [
      "    identifier                                               code\n",
      "0   Z5-Z3-4415  #include <stdio.h>\\n\\n#include <string.h>\\n\\n#...\n",
      "1   Z5-Z3-1132  #include <stdio.h>\\n\\n#include <string.h>\\n\\n#...\n",
      "2   Z5-Z2-8794  #include <stdio.h>\\n\\n#include <math.h>\\n\\n#in...\n",
      "3   Z5-Z2-3315  #include <stdio.h>\\n\\n#include <ctype.h>\\n\\n#i...\n",
      "4   Z5-Z2-3186  #include <stdio.h>\\n\\n#include <stdlib.h>\\n\\n#...\n",
      "5   Z5-Z1-7485  #include <stdio.h>\\n\\n#include <string.h>\\n\\n#...\n",
      "6   Z5-Z1-5298  #include <stdio.h>\\n\\n#include <string.h>\\n\\n\\...\n",
      "7   Z5-Z1-3258  #include <stdio.h>\\n\\n\\n\\nstruct Student {\\n\\n...\n",
      "8   Z4-Z4-9318  #include <stdio.h>\\n\\n#include <math.h>\\n\\n#de...\n",
      "9   Z4-Z4-8774  #include <stdio.h>\\n\\n\\n\\nvoid dbr(char *p,cha...\n",
      "10  Z4-Z4-7392  #include <stdio.h>\\n\\n#include <math.h>\\n\\n\\n\\...\n",
      "11  Z4-Z3-8794  #include <stdio.h>\\n\\n\\n\\n//Zadaca 4 by @White...\n",
      "12  Z4-Z3-8532  #include <stdio.h>\\n\\n\\n\\nchar* zamjena_rijeci...\n",
      "13  Z4-Z3-4766  #include <stdio.h>\\n\\n\\n\\nchar *zamjena_rijeci...\n",
      "14  Z4-Z2-9188  #include <stdio.h>\\n\\n#include <stdlib.h>\\n\\n\\...\n",
      "15  Z4-Z2-5284  #include <stdio.h>\\n\\n\\n\\nvoid sort(int *sorti...\n",
      "16  Z4-Z2-2675  #include <stdio.h>\\n\\n\\n\\nchar* kodiraj(char* ...\n",
      "17  Z4-Z1-7421  #include <stdio.h>\\n\\n\\n\\nchar u_mala(char z){...\n",
      "18  Z4-Z1-6956  #include <stdio.h>\\n\\nchar veliko(char s){\\n\\n...\n",
      "19  Z4-Z1-5185  #include <stdio.h>\\n\\n#define limit 1000\\n\\n\\n...\n",
      "20  Z3-Z3-6151  #include <stdio.h>\\n\\n\\n\\nint isti(int niz[],i...\n",
      "21  Z3-Z3-5612  #include <stdio.h>\\n\\n#include <stdlib.h>\\n\\ni...\n",
      "22  Z3-Z3-2806  #include <stdio.h>\\n\\n#define visina 200\\n\\n#d...\n",
      "23  Z3-Z2-9935  #include<stdio.h>\\n\\n#include<stdlib.h>\\n\\nvoi...\n",
      "24  Z3-Z2-8480  #include <stdio.h>\\n\\n\\n\\nint fib(int f)\\n\\n{\\...\n",
      "25  Z3-Z2-3756  #include <stdio.h>\\n\\n#include <stdlib.h>\\n\\nv...\n",
      "26  Z3-Z1-8670  #include <stdio.h>\\n\\n#include <stdlib.h>\\n\\n#...\n",
      "27  Z3-Z1-7597  #include <stdio.h>\\n\\n\\n\\n\\n\\n\\n\\nint DaLiJePr...\n",
      "28  Z3-Z1-1477  #include <stdio.h>\\n\\n\\n\\nint da_li_je_broj_pr...\n",
      "29  Z2-Z4-8923  #include <stdio.h>\\n\\n#include <stdlib.h>\\n\\n#...\n",
      "30  Z2-Z4-2925  #include <stdio.h>\\n\\n\\n\\nint main() {\\n\\n\\tdo...\n",
      "31  Z2-Z4-2086  #include <stdio.h>\\n\\n\\n\\nint main() {\\n\\n\\tin...\n",
      "32  Z2-Z3-4192  #include <stdio.h>\\n\\n\\n\\nint main() {\\n\\n\\tch...\n",
      "33  Z2-Z3-2574  #include <stdio.h>\\n\\n\\n\\nint main() {\\n\\nint ...\n",
      "34  Z2-Z3-2197  #include <stdio.h>\\n\\n\\n\\nint main() {\\n\\n\\tin...\n",
      "35  Z2-Z2-8532  #include <stdio.h>\\n\\n#include <math.h>\\n\\n#de...\n",
      "36  Z2-Z2-5488  #include <stdio.h>\\n\\n#define PI 3.1415926\\n\\n...\n",
      "37  Z2-Z2-3736  #include <stdio.h>\\n\\n#define PI 3.1415926\\n\\n...\n",
      "38  Z2-Z1-8085  #include <stdio.h>\\n\\n#include <stdlib.h>\\n\\n#...\n",
      "39  Z2-Z1-6054  #include <stdio.h>\\n\\n#include <stdlib.h>\\n\\ni...\n",
      "40  Z2-Z1-3517  #include <stdio.h>\\n\\n#include <math.h>\\n\\n\\n\\...\n",
      "41  Z1-Z4-9296  #include <stdio.h>\\n\\n\\n\\nint main() {\\n\\n\\t\\n...\n",
      "42  Z1-Z4-7013  #include <stdio.h>\\n\\n#include <math.h>\\n\\n\\n\\...\n",
      "43  Z1-Z4-4682  #include <stdio.h>\\n\\n\\n\\nint main() {\\n\\n\\tin...\n",
      "44  Z1-Z3-9923  #include <stdio.h>\\n\\n\\n\\nint main() {\\n\\n cha...\n",
      "45  Z1-Z3-7755  #include <stdio.h>\\n\\nint main() {\\n\\n\\tint br...\n",
      "46  Z1-Z3-5581  #include <stdio.h>\\n\\n\\n\\nint main () {\\n\\n   ...\n",
      "47  Z1-Z2-9998  #include <stdio.h>\\n\\n#include <math.h>\\n\\n\\n\\...\n",
      "48  Z1-Z2-4016  #include <stdio.h>\\n\\n#include <math.h> \\n\\n#d...\n",
      "49  Z1-Z2-1772  #include <stdio.h>\\n\\n#include <math.h>\\n\\n#de...\n",
      "50  Z1-Z1-8085  #include <stdio.h>\\n\\n#define PI1 20 /*Maksima...\n",
      "51  Z1-Z1-4647  #include <stdio.h>\\n\\n#define EPS 0.01\\n\\n#inc...\n",
      "52  Z1-Z1-1066  #include <stdio.h>\\n\\n\\n\\nint main() {\\n\\n    ...\n"
     ]
    },
    {
     "name": "stderr",
     "output_type": "stream",
     "text": [
      "\n"
     ]
    }
   ],
   "source": [
    "dataset_directory = \"datasets/VedranLjubovic/chosen/\"\n",
    "humanCode = aiSource['identifier'].to_frame()\n",
    "humanCode['code'] = [None for x in range(len(humanCode))]\n",
    "\n",
    "def getCode(fileIdentifier):\n",
    "  try:\n",
    "    file = open(dataset_directory + fileIdentifier + \".c\", \"r\")\n",
    "    code = \"\\n\".join(file.readlines())\n",
    "    file.close()\n",
    "  except Exception as e:\n",
    "    sys.stderr.write(\"Error reading file: \" + dataset_directory + fileIdentifier + \".c\" + \"\\n\")\n",
    "    return None\n",
    "  return code\n",
    "\n",
    "humanCode['code'] = humanCode['identifier'].progress_apply(getCode)\n",
    "\n",
    "print(humanCode)"
   ]
  },
  {
   "cell_type": "code",
   "execution_count": 81,
   "id": "4996cbb0",
   "metadata": {},
   "outputs": [],
   "source": [
    "human_df = humanCode['code'].copy()\n",
    "ai_df = aiSource['code'].copy()\n",
    "\n",
    "human_df.columns = ['code']\n",
    "ai_df.columns = ['code']\n",
    "\n",
    "human_df = human_df.to_frame()\n",
    "ai_df = ai_df.to_frame()\n",
    "\n",
    "human_df['actual label'] = \"human\"\n",
    "ai_df['actual label'] = \"llm\"\n",
    "\n",
    "merged_df = pd.concat([human_df, ai_df], ignore_index=True)"
   ]
  },
  {
   "cell_type": "code",
   "execution_count": 82,
   "id": "41e517f9",
   "metadata": {},
   "outputs": [],
   "source": [
    "merged_df.to_pickle(data_directory + \"prepared/\" + \"code.pkl\")"
   ]
  },
  {
   "cell_type": "markdown",
   "id": "d2dcd94f",
   "metadata": {},
   "source": [
    "# splitting data"
   ]
  },
  {
   "cell_type": "code",
   "execution_count": null,
   "id": "a25d979e",
   "metadata": {},
   "outputs": [],
   "source": []
  },
  {
   "cell_type": "code",
   "execution_count": 2,
   "id": "0475ec94",
   "metadata": {},
   "outputs": [
    {
     "name": "stdout",
     "output_type": "stream",
     "text": [
      "84 94\n"
     ]
    }
   ],
   "source": [
    "embedding_directory = \"data/prepared/run2/\"\n",
    "ratios = [80, 10, 10]\n",
    "\n",
    "data = pd.read_pickle(embedding_directory + \"embeddings.pkl\")\n",
    "data_num = len(data)\n",
    "\n",
    "train_split = int(ratios[0]/sum(ratios)*data_num)\n",
    "val_split = train_split + int(ratios[1]/sum(ratios)*data_num)\n",
    "\n",
    "data = data.sample(frac=1, random_state=666)\n",
    "train = data.iloc[:train_split]\n",
    "dev = data.iloc[train_split:val_split]\n",
    "test = data.iloc[val_split:]\n",
    "\n",
    "print(train_split, val_split)"
   ]
  },
  {
   "cell_type": "code",
   "execution_count": 3,
   "id": "90ee9fed",
   "metadata": {},
   "outputs": [],
   "source": [
    "train.to_pickle(embedding_directory + \"train.pkl\")\n",
    "dev.to_pickle(embedding_directory + \"dev.pkl\")\n",
    "test.to_pickle(embedding_directory + \"test.pkl\")"
   ]
  },
  {
   "cell_type": "code",
   "execution_count": 11,
   "id": "24bd4305",
   "metadata": {},
   "outputs": [
    {
     "name": "stdout",
     "output_type": "stream",
     "text": [
      "   actual label                                    code_embeddings\n",
      "8         human  [-0.0055792592, 0.06428501, -0.036523633, -0.0...\n",
      "57          llm  [-0.027133392, 0.009359762, -0.10520409, 0.011...\n",
      "90          llm  [0.015876377, -0.053451587, -0.070226625, 0.01...\n",
      "40        human  [-0.045699924, 0.02933702, -0.11228899, 0.0292...\n",
      "67          llm  [0.008493862, 0.032250702, -0.08035441, -0.015...\n",
      "..          ...                                                ...\n",
      "11        human  [0.021025768, 0.010113711, -0.13329825, 0.0339...\n",
      "20        human  [0.0009624716, 0.020897575, -0.10187468, 0.063...\n",
      "86          llm  [-0.06238021, 0.041018948, -0.10947401, 0.0711...\n",
      "13        human  [0.02036846, -0.012620583, -0.12502861, -0.029...\n",
      "79          llm  [-0.060971193, 0.070538305, -0.16201116, -0.00...\n",
      "\n",
      "[84 rows x 2 columns]\n"
     ]
    }
   ],
   "source": [
    "print(train)"
   ]
  },
  {
   "cell_type": "code",
   "execution_count": 26,
   "id": "cc32dc6d",
   "metadata": {},
   "outputs": [
    {
     "name": "stdout",
     "output_type": "stream",
     "text": [
      "           0         1         2         3         4         5         6  \\\n",
      "8  -0.005579  0.064285 -0.036524 -0.022370  0.007151 -0.011820  0.000123   \n",
      "57 -0.027133  0.009360 -0.105204  0.011347 -0.132737  0.003184 -0.019521   \n",
      "90  0.015876 -0.053452 -0.070227  0.016451 -0.106307 -0.039220 -0.111423   \n",
      "40 -0.045700  0.029337 -0.112289  0.029299 -0.094496  0.048511 -0.039841   \n",
      "67  0.008494  0.032251 -0.080354 -0.015844 -0.059486  0.064062 -0.086975   \n",
      "..       ...       ...       ...       ...       ...       ...       ...   \n",
      "11  0.021026  0.010114 -0.133298  0.033915 -0.011136 -0.005381 -0.018329   \n",
      "20  0.000962  0.020898 -0.101875  0.063812 -0.064141 -0.003297  0.016214   \n",
      "86 -0.062380  0.041019 -0.109474  0.071166 -0.063021  0.049664 -0.035394   \n",
      "13  0.020368 -0.012621 -0.125029 -0.029516 -0.077637 -0.018517 -0.033507   \n",
      "79 -0.060971  0.070538 -0.162011 -0.003407 -0.026897  0.116769 -0.018240   \n",
      "\n",
      "           7         8         9  ...       247       248       249       250  \\\n",
      "8   0.037599 -0.011017 -0.014362  ...  0.073993 -0.069402  0.009080 -0.024542   \n",
      "57  0.034343 -0.004970 -0.042388  ...  0.007833 -0.036834 -0.005830  0.006465   \n",
      "90  0.010586  0.059868 -0.003963  ...  0.105035 -0.044338  0.015359 -0.047734   \n",
      "40  0.081124 -0.001683  0.015421  ...  0.068001 -0.057637  0.084706 -0.014155   \n",
      "67  0.033713  0.015851 -0.089038  ...  0.009176 -0.104029  0.019381  0.018737   \n",
      "..       ...       ...       ...  ...       ...       ...       ...       ...   \n",
      "11  0.021894  0.019487 -0.041145  ...  0.020521 -0.077028  0.070733 -0.030418   \n",
      "20  0.021906 -0.017687 -0.055904  ...  0.054357 -0.013975  0.094150 -0.041418   \n",
      "86  0.099393  0.008235 -0.044646  ... -0.043618 -0.039400  0.076404 -0.049646   \n",
      "13  0.019850 -0.036996 -0.057324  ...  0.020179 -0.095390  0.000695  0.015871   \n",
      "79  0.128625 -0.057877  0.034861  ...  0.103009 -0.046898  0.035514 -0.129864   \n",
      "\n",
      "         251       252       253       254       255  actual label  \n",
      "8   0.006572  0.069601  0.052486  0.034565 -0.035013         human  \n",
      "57  0.025269  0.001480 -0.008817  0.056877 -0.098089           llm  \n",
      "90  0.025379  0.071491 -0.014985 -0.007068 -0.101311           llm  \n",
      "40  0.003066  0.056334  0.037510  0.061975 -0.047224         human  \n",
      "67 -0.001125  0.062794 -0.000349  0.043433 -0.070497           llm  \n",
      "..       ...       ...       ...       ...       ...           ...  \n",
      "11  0.025481  0.036304 -0.025684  0.020068 -0.048145         human  \n",
      "20  0.014364  0.030916  0.008461  0.017941 -0.032984         human  \n",
      "86  0.061824  0.049784  0.067904  0.013166 -0.097051           llm  \n",
      "13  0.042438  0.043072  0.013869  0.052745 -0.074999         human  \n",
      "79 -0.001037  0.072007  0.085047  0.072081 -0.022844           llm  \n",
      "\n",
      "[84 rows x 257 columns]\n"
     ]
    }
   ],
   "source": [
    "# filtered_data = train.loc[:, train.columns.str.startswith('code_')]\n",
    "# filtered_data['actual label'] = train['actual label']\n",
    "# filtered_data['code_embeddings'] = filtered_data['code_embeddings'].apply(lambda x: x.flatten())\n",
    "\n",
    "\n",
    "data_expanded = pd.DataFrame(train['code_embeddings'].tolist(), index=train.index)  # Expands each ndarray into separate columns\n",
    "filtered_data = pd.concat([data_expanded, train[['actual label']]], axis=1)\n",
    "# print(train['actual label'])\n",
    "print(filtered_data) "
   ]
  },
  {
   "cell_type": "code",
   "execution_count": null,
   "id": "4732ce25",
   "metadata": {},
   "outputs": [],
   "source": []
  },
  {
   "cell_type": "markdown",
   "id": "e362b1fc",
   "metadata": {},
   "source": [
    "# Different Testing Dataset"
   ]
  },
  {
   "cell_type": "code",
   "execution_count": 3,
   "id": "03271783",
   "metadata": {},
   "outputs": [],
   "source": [
    "testDirectory = \"datasets/VedranLjubovic/testChosen/\"\n",
    "testFiles = os.listdir(testDirectory)"
   ]
  },
  {
   "cell_type": "code",
   "execution_count": 14,
   "id": "7102a224",
   "metadata": {},
   "outputs": [
    {
     "name": "stderr",
     "output_type": "stream",
     "text": [
      "Error reading file: datasets/VedranLjubovic/testChosen/Z3-Z2-4770.c.c\n",
      "Error reading file: datasets/VedranLjubovic/testChosen/Z4-Z2-2160.c.c\n",
      "Error reading file: datasets/VedranLjubovic/testChosen/Z4-Z4-2254.c.c\n",
      "Error reading file: datasets/VedranLjubovic/testChosen/Z4-Z4-7125.c.c\n",
      "Error reading file: datasets/VedranLjubovic/testChosen/Z5-Z1-7888.c.c\n",
      "100%|███████████████████████████████████████████████████████| 175/175 [00:00<00:00, 8822.68it/s]"
     ]
    },
    {
     "name": "stdout",
     "output_type": "stream",
     "text": [
      "                                                  code\n",
      "0    #include <stdio.h>\\n\\n\\n\\nint main() {\\n\\n\\tdo...\n",
      "1    #include <stdio.h>\\n\\n\\n\\nint main() {\\n\\n\\tfl...\n",
      "2    #include <stdio.h>\\n\\n\\n\\n#define I_parcijalni...\n",
      "3    #include <stdio.h>\\n\\n#define eps 0.0001\\n\\nin...\n",
      "4    #include <stdio.h>\\n\\n\\n\\nint main() {\\n\\n\\tin...\n",
      "..                                                 ...\n",
      "170  #include <stdio.h>\\n\\n#include <string.h>\\n\\n#...\n",
      "171  /*\\n\\n#include <stdio.h>\\n\\n#include <string.h...\n",
      "172  #include <stdio.h>\\n\\n#include <string.h>\\n\\n#...\n",
      "173  #include <stdio.h>\\n\\n#include <string.h>\\n\\n#...\n",
      "174  #include <stdio.h>\\n\\n#include <string.h>\\n\\n#...\n",
      "\n",
      "[175 rows x 1 columns]\n"
     ]
    },
    {
     "name": "stderr",
     "output_type": "stream",
     "text": [
      "\n"
     ]
    }
   ],
   "source": [
    "humanTestCode = pd.DataFrame()\n",
    "humanTestCode['code'] = [x for x in testFiles if getCode(x) is not None]\n",
    "\n",
    "def getCode(fileIdentifier):\n",
    "  try:\n",
    "    file = open(testDirectory + fileIdentifier, \"r\")\n",
    "    code = \"\\n\".join(file.readlines())\n",
    "    file.close()\n",
    "  except Exception as e:\n",
    "    sys.stderr.write(\"Error reading file: \" + testDirectory + fileIdentifier + \".c\" + \"\\n\")\n",
    "    return None\n",
    "  return code\n",
    "\n",
    "humanTestCode['code'] = humanTestCode['code'].progress_apply(getCode)\n",
    "\n",
    "print(humanTestCode)"
   ]
  },
  {
   "cell_type": "code",
   "execution_count": 15,
   "id": "30e1d187",
   "metadata": {},
   "outputs": [],
   "source": [
    "humanTestCode['actual label'] = \"human\""
   ]
  },
  {
   "cell_type": "code",
   "execution_count": 10,
   "id": "d84d5afd",
   "metadata": {},
   "outputs": [
    {
     "name": "stdout",
     "output_type": "stream",
     "text": [
      "                                                  code actual label\n",
      "0    #include <stdio.h>\\n\\n\\n\\nint main() {\\n\\n\\tdo...        human\n",
      "1    #include <stdio.h>\\n\\n\\n\\nint main() {\\n\\n\\tfl...        human\n",
      "2    #include <stdio.h>\\n\\n\\n\\n#define I_parcijalni...        human\n",
      "3    #include <stdio.h>\\n\\n#define eps 0.0001\\n\\nin...        human\n",
      "4    #include <stdio.h>\\n\\n\\n\\nint main() {\\n\\n\\tin...        human\n",
      "..                                                 ...          ...\n",
      "175  #include <stdio.h>\\n\\n#include <string.h>\\n\\n#...        human\n",
      "176  /*\\n\\n#include <stdio.h>\\n\\n#include <string.h...        human\n",
      "177  #include <stdio.h>\\n\\n#include <string.h>\\n\\n#...        human\n",
      "178  #include <stdio.h>\\n\\n#include <string.h>\\n\\n#...        human\n",
      "179  #include <stdio.h>\\n\\n#include <string.h>\\n\\n#...        human\n",
      "\n",
      "[180 rows x 2 columns]\n"
     ]
    }
   ],
   "source": [
    "print(humanTestCode)"
   ]
  },
  {
   "cell_type": "code",
   "execution_count": 16,
   "id": "a164f8e1",
   "metadata": {},
   "outputs": [],
   "source": [
    "humanTestCode.to_pickle(data_directory + \"prepared/\" + \"testCode.pkl\")"
   ]
  },
  {
   "cell_type": "code",
   "execution_count": null,
   "id": "662b72c6",
   "metadata": {},
   "outputs": [],
   "source": []
  }
 ],
 "metadata": {
  "kernelspec": {
   "display_name": "Python 3 (ipykernel)",
   "language": "python",
   "name": "python3"
  },
  "language_info": {
   "codemirror_mode": {
    "name": "ipython",
    "version": 3
   },
   "file_extension": ".py",
   "mimetype": "text/x-python",
   "name": "python",
   "nbconvert_exporter": "python",
   "pygments_lexer": "ipython3",
   "version": "3.11.9"
  }
 },
 "nbformat": 4,
 "nbformat_minor": 5
}
