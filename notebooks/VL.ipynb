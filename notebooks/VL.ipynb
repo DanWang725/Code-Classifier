{
 "cells": [
  {
   "cell_type": "code",
   "execution_count": null,
   "metadata": {},
   "outputs": [],
   "source": [
    "import os\n",
    "import pandas as pd\n",
    "import re\n",
    "from random import sample\n",
    "import numpy\n",
    "print(numpy.__version__)"
   ]
  },
  {
   "cell_type": "code",
   "execution_count": null,
   "metadata": {},
   "outputs": [],
   "source": [
    "questions = pd.read_pickle('../data/ai-code/codenet-full-deepseek-1-1.code.pkl')\n",
    "print(questions)"
   ]
  },
  {
   "cell_type": "code",
   "execution_count": 8,
   "metadata": {},
   "outputs": [
    {
     "name": "stdout",
     "output_type": "stream",
     "text": [
      "    identifier                                               code actual label\n",
      "0   Z1-Z1-8480  #include <stdio.h>\\n\\n#define MAX_I_PARCIJALNI...           ai\n",
      "1   Z1-Z1-6029  #include <stdio.h>\\n\\nint main() {\\n    double...           ai\n",
      "2   Z1-Z2-5957  #include <stdio.h>\\n#include <math.h>\\n\\nint m...           ai\n",
      "3   Z1-Z2-3671  #include <stdio.h>\\n\\nint main() {\\n  double a...           ai\n",
      "4   Z1-Z3-2371  #include <stdio.h>\\n#include <ctype.h> // za f...           ai\n",
      "5   Z1-Z3-8029  #include <stdio.h>\\n#include <ctype.h>\\n\\nint ...           ai\n",
      "6   Z1-Z4-8187  #include <stdio.h>\\n\\nint main() {\\n  int n;\\n...           ai\n",
      "7   Z1-Z4-6634  #include <stdio.h>\\n\\nint main() {\\n    int n;...           ai\n",
      "8   Z2-Z1-2335  #include <stdio.h>\\n#include <stdlib.h>\\n#incl...           ai\n",
      "9   Z2-Z1-3631  #include <stdio.h>\\n#include <math.h>\\n#includ...           ai\n",
      "10  Z2-Z2-4852  #include <stdio.h>\\n#include <stdlib.h>\\n#incl...           ai\n",
      "11  Z2-Z2-2086  #include <stdio.h>\\n#include <math.h>\\n\\n#defi...           ai\n",
      "12  Z2-Z3-6707  #include <stdio.h>\\n#include <stdlib.h> // For...           ai\n",
      "13  Z2-Z3-9569  #include <stdio.h>\\n\\n#define A 20\\n\\nint main...           ai\n",
      "14  Z2-Z4-2956  #include <stdio.h>\\n#include <stdbool.h>\\n\\nin...           ai\n",
      "15  Z2-Z4-7616  #include <stdio.h>\\n#include <stdlib.h>\\n#incl...           ai\n",
      "16  Z3-Z1-9998  #include <stdio.h>\\n#include <stdbool.h>\\n\\nin...           ai\n",
      "17  Z3-Z1-4456  #include <stdio.h>\\n#include <math.h>\\n\\nint d...           ai\n",
      "18  Z3-Z2-5488  #include <stdio.h>\\n\\n#define el 10 // Definiš...           ai\n",
      "19  Z3-Z2-5162  #include <stdio.h>\\n#include <stdlib.h>\\n\\n// ...           ai\n",
      "20  Z3-Z3-7671  #include <stdio.h>\\n#include <stdlib.h>\\n#incl...           ai\n",
      "21  Z3-Z3-9805  #include <stdio.h>\\n#include <stdlib.h>\\n#incl...           ai\n",
      "22  Z4-Z1-9972  #include <stdio.h>\\n#include <stdlib.h>\\n#incl...           ai\n",
      "23  Z4-Z1-6248  #include <stdio.h>\\n#include <ctype.h>\\n#inclu...           ai\n",
      "24  Z4-Z2-3206  #include <stdio.h>\\n#include <string.h>\\n\\nvoi...           ai\n",
      "25  Z4-Z2-4973  #include <stdio.h>\\n#include <stdlib.h>\\n#incl...           ai\n",
      "26  Z4-Z3-4237  #include <stdio.h>\\n#include <stdbool.h>\\n\\n//...           ai\n",
      "27  Z4-Z3-1146  #include <stdio.h>\\n#include <stdbool.h>\\n\\n//...           ai\n",
      "28  Z4-Z4-1938  #include <stdio.h>\\n#include <math.h>\\n\\nint s...           ai\n",
      "29  Z4-Z4-8846  #include <stdio.h>\\n#include <stdlib.h>\\n#incl...           ai\n",
      "30  Z5-Z1-5957  #include <stdio.h>\\n#include <string.h>\\n\\n// ...           ai\n",
      "31  Z5-Z1-4290  #include <stdio.h>\\n#include <string.h>\\n\\nstr...           ai\n",
      "32  Z5-Z2-2068  #include <stdio.h>\\n#include <string.h>\\n#incl...           ai\n",
      "33  Z5-Z2-8776  #include <stdio.h>\\n#include <stdlib.h>\\n#incl...           ai\n",
      "34  Z5-Z3-8317  #include <stdio.h>\\n#include <stdlib.h>\\n#incl...           ai\n",
      "35  Z5-Z3-2210  #include <stdio.h>\\n#include <stdlib.h>\\n#incl...           ai\n"
     ]
    }
   ],
   "source": [
    "code = pd.read_pickle('../data/ai-code/vl-gemini-5.code.pkl')\n",
    "print(code)"
   ]
  },
  {
   "cell_type": "code",
   "execution_count": 11,
   "metadata": {},
   "outputs": [],
   "source": [
    "baseVLPath = '../datasets/VedranLjubovic/src/A2016/'\n",
    "\n",
    "def insert_df(df: pd.DataFrame, row: list): \n",
    "  df.loc[-1] = row\n",
    "  df.index = df.index + 1  # shifting index\n",
    "  df = df.sort_index()  # sorting by index\n",
    "  return df\n",
    "\n",
    "def get_code_samples(path: list[str], output_data: pd.DataFrame):\n",
    "  submissions = os.listdir(baseVLPath + \"/\".join(path) + \"/\")\n",
    "\n",
    "  print(f\"Problem {('/'.join(path))} has {len(submissions)} accepted C submissions\")\n",
    "  if(len(submissions) <= 20):\n",
    "    sample_problems = submissions\n",
    "  else:\n",
    "    sample_problems = sample(submissions, 20)\n",
    "\n",
    "  for problem in sample_problems:\n",
    "    submission_id = re.match('student(\\d+).c', problem, re.DOTALL).groups()[0]\n",
    "    submission_code = open(baseVLPath + \"/\".join(path) + \"/\" + problem, 'r', encoding='utf-8').read()\n",
    "    output_data = insert_df(output_data, [f\"{'-'.join(path)}-{submission_id}\", submission_code, 'human'])\n",
    "\n",
    "  return output_data\n",
    "\n",
    "def assemble_data():\n",
    "  output_data = pd.DataFrame(columns=[\"id\", \"code\", \"actual label\"])\n",
    "  # problem_data = pd.DataFrame(columns=[\"question\", \"identifier\"])\n",
    "\n",
    "  for dir in os.listdir(baseVLPath):\n",
    "    for dir2 in os.listdir(baseVLPath + dir + \"/\"):\n",
    "      output_data = get_code_samples([dir, dir2], output_data)\n",
    "\n",
    "  return output_data"
   ]
  },
  {
   "cell_type": "code",
   "execution_count": 3,
   "metadata": {},
   "outputs": [],
   "source": [
    "VL_problems = pd.read_pickle('../data/human-written/vl.code.pkl')"
   ]
  },
  {
   "cell_type": "code",
   "execution_count": 12,
   "metadata": {},
   "outputs": [
    {
     "name": "stdout",
     "output_type": "stream",
     "text": [
      "Problem Z1/Z1 has 546 accepted C submissions\n",
      "Problem Z1/Z2 has 546 accepted C submissions\n",
      "Problem Z1/Z3 has 521 accepted C submissions\n",
      "Problem Z1/Z4 has 539 accepted C submissions\n",
      "Problem Z2/Z1 has 570 accepted C submissions\n",
      "Problem Z2/Z2 has 532 accepted C submissions\n",
      "Problem Z2/Z3 has 532 accepted C submissions\n",
      "Problem Z2/Z4 has 509 accepted C submissions\n",
      "Problem Z3/Z1 has 501 accepted C submissions\n",
      "Problem Z3/Z2 has 438 accepted C submissions\n",
      "Problem Z3/Z3 has 443 accepted C submissions\n",
      "Problem Z4/Z1 has 202 accepted C submissions\n",
      "Problem Z4/Z2 has 179 accepted C submissions\n",
      "Problem Z4/Z3 has 154 accepted C submissions\n",
      "Problem Z4/Z4 has 127 accepted C submissions\n",
      "Problem Z5/Z1 has 222 accepted C submissions\n",
      "Problem Z5/Z2 has 55 accepted C submissions\n",
      "Problem Z5/Z3 has 58 accepted C submissions\n"
     ]
    }
   ],
   "source": [
    "VL_problems = assemble_data()"
   ]
  },
  {
   "cell_type": "code",
   "execution_count": 13,
   "metadata": {},
   "outputs": [
    {
     "name": "stdout",
     "output_type": "stream",
     "text": [
      "             id                                               code  \\\n",
      "0    Z5-Z3-5904  #include <stdio.h>\\n#include <string.h>\\n#defi...   \n",
      "1    Z5-Z3-4370  #include <stdio.h>\\n#include <string.h>\\n\\n#de...   \n",
      "2    Z5-Z3-1571  #include <stdio.h>\\n#include <stdlib.h>\\n#defi...   \n",
      "3    Z5-Z3-1317  #include <stdio.h>\\n#define KAPACITET 200\\n\\ns...   \n",
      "4    Z5-Z3-4290  #include <stdio.h>\\n#include <string.h>\\n#defi...   \n",
      "..          ...                                                ...   \n",
      "355  Z1-Z1-5744  #include <stdio.h>\\n\\nint main ()\\n{\\n\\tfloat ...   \n",
      "356  Z1-Z1-9805  #include <stdio.h>\\n#include <math.h>\\n\\nint m...   \n",
      "357  Z1-Z1-1364  #include <stdio.h>\\n\\nint main() {\\n\\tdouble p...   \n",
      "358  Z1-Z1-4896  #include <stdio.h>\\n\\nint main() {\\n\\tfloat bo...   \n",
      "359  Z1-Z1-9160  #include <stdio.h>\\n\\nint main() {\\n\\tfloat tp...   \n",
      "\n",
      "    actual label  \n",
      "0          human  \n",
      "1          human  \n",
      "2          human  \n",
      "3          human  \n",
      "4          human  \n",
      "..           ...  \n",
      "355        human  \n",
      "356        human  \n",
      "357        human  \n",
      "358        human  \n",
      "359        human  \n",
      "\n",
      "[360 rows x 3 columns]\n"
     ]
    }
   ],
   "source": [
    "print(VL_problems)\n",
    "VL_problems.to_pickle('../data/human-written/vl-2016.code.pkl')"
   ]
  },
  {
   "cell_type": "code",
   "execution_count": 11,
   "metadata": {},
   "outputs": [
    {
     "name": "stdout",
     "output_type": "stream",
     "text": [
      "Z5-Z3-2210\n",
      "('Z5', 'Z3')\n"
     ]
    }
   ],
   "source": [
    "print(VL_problems.loc[0].id)\n",
    "print(re.match(\"(Z\\d)-(Z\\d)-\\d+\", VL_problems.loc[0].id, re.DOTALL).groups())"
   ]
  },
  {
   "cell_type": "code",
   "execution_count": null,
   "metadata": {},
   "outputs": [],
   "source": []
  }
 ],
 "metadata": {
  "kernelspec": {
   "display_name": "venv",
   "language": "python",
   "name": "python3"
  },
  "language_info": {
   "codemirror_mode": {
    "name": "ipython",
    "version": 3
   },
   "file_extension": ".py",
   "mimetype": "text/x-python",
   "name": "python",
   "nbconvert_exporter": "python",
   "pygments_lexer": "ipython3",
   "version": "3.11.9"
  }
 },
 "nbformat": 4,
 "nbformat_minor": 2
}
