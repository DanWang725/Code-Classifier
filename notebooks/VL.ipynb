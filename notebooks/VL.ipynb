{
 "cells": [
  {
   "cell_type": "code",
   "execution_count": null,
   "metadata": {},
   "outputs": [],
   "source": [
    "import os\n",
    "import pandas as pd\n",
    "import re\n",
    "from random import sample\n",
    "import numpy\n",
    "print(numpy.__version__)"
   ]
  },
  {
   "cell_type": "code",
   "execution_count": null,
   "metadata": {},
   "outputs": [],
   "source": [
    "questions = pd.read_pickle('../data/ai-code/codenet-full-deepseek-1-1.code.pkl')\n",
    "print(questions)"
   ]
  },
  {
   "cell_type": "code",
   "execution_count": null,
   "metadata": {},
   "outputs": [],
   "source": [
    "code = pd.read_pickle('../data/ai-code/vl-gemini-5.code.pkl')\n",
    "print(code)"
   ]
  },
  {
   "cell_type": "code",
   "execution_count": null,
   "metadata": {},
   "outputs": [],
   "source": [
    "baseVLPath = '../datasets/VedranLjubovic/src/A2017/'\n",
    "\n",
    "def insert_df(df: pd.DataFrame, row: list): \n",
    "  df.loc[-1] = row\n",
    "  df.index = df.index + 1  # shifting index\n",
    "  df = df.sort_index()  # sorting by index\n",
    "  return df\n",
    "\n",
    "def get_code_samples(path: list[str], output_data: pd.DataFrame):\n",
    "  submissions = os.listdir(baseVLPath + \"/\".join(path) + \"/\")\n",
    "\n",
    "  print(f\"Problem {('/'.join(path))} has {len(submissions)} accepted C submissions\")\n",
    "  if(len(submissions) <= 20):\n",
    "    sample_problems = submissions\n",
    "  else:\n",
    "    sample_problems = sample(submissions, 20)\n",
    "\n",
    "  for problem in sample_problems:\n",
    "    submission_id = re.match('student(\\d+).c', problem, re.DOTALL).groups()[0]\n",
    "    submission_code = open(baseVLPath + \"/\".join(path) + \"/\" + problem, 'r', encoding='utf-8').read()\n",
    "    output_data = insert_df(output_data, [f\"{'-'.join(path)}-{submission_id}\", submission_code, 'human'])\n",
    "\n",
    "  return output_data\n",
    "\n",
    "def assemble_data():\n",
    "  output_data = pd.DataFrame(columns=[\"id\", \"code\", \"actual label\"])\n",
    "  # problem_data = pd.DataFrame(columns=[\"question\", \"identifier\"])\n",
    "\n",
    "  for dir in os.listdir(baseVLPath):\n",
    "    for dir2 in os.listdir(baseVLPath + dir + \"/\"):\n",
    "      output_data = get_code_samples([dir, dir2], output_data)\n",
    "\n",
    "  return output_data"
   ]
  },
  {
   "cell_type": "code",
   "execution_count": null,
   "metadata": {},
   "outputs": [],
   "source": [
    "VL_problems = pd.read_pickle('../data/human-written/vl.code.pkl')"
   ]
  },
  {
   "cell_type": "code",
   "execution_count": null,
   "metadata": {},
   "outputs": [],
   "source": [
    "VL_problems = assemble_data()"
   ]
  },
  {
   "cell_type": "code",
   "execution_count": null,
   "metadata": {},
   "outputs": [],
   "source": [
    "VL_problems.to_pickle('../data/human-written/vl-2017-2.code.pkl')\n",
    "print(VL_problems)"
   ]
  },
  {
   "cell_type": "code",
   "execution_count": null,
   "metadata": {},
   "outputs": [],
   "source": [
    "print(VL_problems.loc[0].id)\n",
    "print(re.match(\"(Z\\d)-(Z\\d)-\\d+\", VL_problems.loc[0].id, re.DOTALL).groups())"
   ]
  },
  {
   "cell_type": "code",
   "execution_count": null,
   "metadata": {},
   "outputs": [],
   "source": []
  }
 ],
 "metadata": {
  "kernelspec": {
   "display_name": "venv",
   "language": "python",
   "name": "python3"
  },
  "language_info": {
   "codemirror_mode": {
    "name": "ipython",
    "version": 3
   },
   "file_extension": ".py",
   "mimetype": "text/x-python",
   "name": "python",
   "nbconvert_exporter": "python",
   "pygments_lexer": "ipython3",
   "version": "3.11.9"
  }
 },
 "nbformat": 4,
 "nbformat_minor": 2
}
