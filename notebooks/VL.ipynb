{
 "cells": [
  {
   "cell_type": "code",
   "execution_count": 1,
   "metadata": {},
   "outputs": [],
   "source": [
    "import os\n",
    "import pandas as pd\n",
    "import re\n",
    "from random import sample"
   ]
  },
  {
   "cell_type": "code",
   "execution_count": 12,
   "metadata": {},
   "outputs": [
    {
     "name": "stdout",
     "output_type": "stream",
     "text": [
      "                                              question  identifier\n",
      "0    Here are the instructions translated into Engl...  Z5-Z3-4415\n",
      "1    Here are the instructions translated into Engl...  Z5-Z3-4415\n",
      "2    Here are the instructions translated into Engl...  Z5-Z3-4415\n",
      "3    **Assignment: Compression and Sorting of Text ...  Z5-Z2-3186\n",
      "4    **Assignment Question:**\\n\\n**Title:** Impleme...  Z5-Z1-7485\n",
      "..                                                 ...         ...\n",
      "147  **Assignment Question**\\n\\n## Learning Outcome...  Z1-Z2-4016\n",
      "148  **Assignment Question:**\\n\\n**Learning Outcome...  Z1-Z2-1772\n",
      "149  **Assignment Question**\\n\\n**Learning Outcomes...  Z1-Z1-8085\n",
      "150  Here is a possible assignment question that th...  Z1-Z1-4647\n",
      "151  **Assignment Question:**\\n\\n### Problem Descri...  Z1-Z1-1066\n",
      "\n",
      "[152 rows x 2 columns]\n"
     ]
    }
   ],
   "source": [
    "questions = pd.read_pickle('../backup/questions.old.pkl')\n",
    "print(questions)"
   ]
  },
  {
   "cell_type": "code",
   "execution_count": 15,
   "metadata": {},
   "outputs": [
    {
     "name": "stdout",
     "output_type": "stream",
     "text": [
      "    identifier                                               code actual label\n",
      "0   Z1-Z1-8480  #include <stdio.h>\\n\\n#define MAX_I_PARCIJALNI...           ai\n",
      "1   Z1-Z1-6029  #include <stdio.h>\\n\\nint main() {\\n    double...           ai\n",
      "2   Z1-Z2-5957  #include <stdio.h>\\n#include <math.h>\\n\\nint m...           ai\n",
      "3   Z1-Z2-3671  #include <stdio.h>\\n\\nint main() {\\n  double a...           ai\n",
      "4   Z1-Z3-2371  #include <stdio.h>\\n#include <ctype.h> // za f...           ai\n",
      "5   Z1-Z3-8029  #include <stdio.h>\\n#include <ctype.h>\\n\\nint ...           ai\n",
      "6   Z1-Z4-8187  #include <stdio.h>\\n\\nint main() {\\n  int n;\\n...           ai\n",
      "7   Z1-Z4-6634  #include <stdio.h>\\n\\nint main() {\\n    int n;...           ai\n",
      "8   Z2-Z1-2335  #include <stdio.h>\\n#include <stdlib.h>\\n#incl...           ai\n",
      "9   Z2-Z1-3631                                               None         None\n",
      "10  Z2-Z2-4852                                               None         None\n",
      "11  Z2-Z2-2086                                               None         None\n",
      "12  Z2-Z3-6707                                               None         None\n",
      "13  Z2-Z3-9569                                               None         None\n",
      "14  Z2-Z4-2956                                               None         None\n",
      "15  Z2-Z4-7616                                               None         None\n",
      "16  Z3-Z1-9998                                               None         None\n",
      "17  Z3-Z1-4456                                               None         None\n",
      "18  Z3-Z2-5488                                               None         None\n",
      "19  Z3-Z2-5162                                               None         None\n",
      "20  Z3-Z3-7671                                               None         None\n",
      "21  Z3-Z3-9805                                               None         None\n",
      "22  Z4-Z1-9972                                               None         None\n",
      "23  Z4-Z1-6248                                               None         None\n",
      "24  Z4-Z2-3206                                               None         None\n",
      "25  Z4-Z2-4973                                               None         None\n",
      "26  Z4-Z3-4237                                               None         None\n",
      "27  Z4-Z3-1146                                               None         None\n",
      "28  Z4-Z4-1938                                               None         None\n",
      "29  Z4-Z4-8846                                               None         None\n",
      "30  Z5-Z1-5957                                               None         None\n",
      "31  Z5-Z1-4290                                               None         None\n",
      "32  Z5-Z2-2068                                               None         None\n",
      "33  Z5-Z2-8776                                               None         None\n",
      "34  Z5-Z3-8317                                               None         None\n",
      "35  Z5-Z3-2210                                               None         None\n"
     ]
    }
   ],
   "source": [
    "code = pd.read_pickle('../data/ai-code/vl-gemini-5.code.pkl')\n",
    "print(code)"
   ]
  },
  {
   "cell_type": "code",
   "execution_count": 2,
   "metadata": {},
   "outputs": [],
   "source": [
    "baseVLPath = '../datasets/VedranLjubovic/src/A2016/'\n",
    "\n",
    "def insert_df(df: pd.DataFrame, row: list): \n",
    "  df.loc[-1] = row\n",
    "  df.index = df.index + 1  # shifting index\n",
    "  df = df.sort_index()  # sorting by index\n",
    "  return df\n",
    "\n",
    "def get_code_samples(path: list[str], output_data: pd.DataFrame):\n",
    "  submissions = os.listdir(baseVLPath + \"/\".join(path) + \"/\")\n",
    "\n",
    "  print(f\"Problem {('/'.join(path))} has {len(submissions)} accepted C submissions\")\n",
    "  if(len(submissions) <= 10):\n",
    "    sample_problems = submissions\n",
    "  else:\n",
    "    sample_problems = sample(submissions, 10)\n",
    "\n",
    "  for problem in sample_problems:\n",
    "    submission_id = re.match('student(\\d+).c', problem, re.DOTALL).groups()[0]\n",
    "    submission_code = open(baseVLPath + \"/\".join(path) + \"/\" + problem, 'r', encoding='utf-8').read()\n",
    "    output_data = insert_df(output_data, [f\"{'-'.join(path)}-{submission_id}\", submission_code, 'human'])\n",
    "\n",
    "  return output_data\n",
    "\n",
    "def assemble_data():\n",
    "  output_data = pd.DataFrame(columns=[\"id\", \"code\", \"actual label\"])\n",
    "  # problem_data = pd.DataFrame(columns=[\"question\", \"identifier\"])\n",
    "\n",
    "  for dir in os.listdir(baseVLPath):\n",
    "    for dir2 in os.listdir(baseVLPath + dir + \"/\"):\n",
    "      output_data = get_code_samples([dir, dir2], output_data)\n",
    "\n",
    "  return output_data"
   ]
  },
  {
   "cell_type": "code",
   "execution_count": 3,
   "metadata": {},
   "outputs": [],
   "source": [
    "VL_problems = pd.read_pickle('../data/human-written/vl.code.pkl')"
   ]
  },
  {
   "cell_type": "code",
   "execution_count": null,
   "metadata": {},
   "outputs": [
    {
     "name": "stdout",
     "output_type": "stream",
     "text": [
      "Problem Z1/Z1 has 546 accepted C submissions\n",
      "Problem Z1/Z2 has 546 accepted C submissions\n",
      "Problem Z1/Z3 has 521 accepted C submissions\n",
      "Problem Z1/Z4 has 539 accepted C submissions\n",
      "Problem Z2/Z1 has 570 accepted C submissions\n",
      "Problem Z2/Z2 has 532 accepted C submissions\n",
      "Problem Z2/Z3 has 532 accepted C submissions\n",
      "Problem Z2/Z4 has 509 accepted C submissions\n",
      "Problem Z3/Z1 has 501 accepted C submissions\n",
      "Problem Z3/Z2 has 438 accepted C submissions\n",
      "Problem Z3/Z3 has 443 accepted C submissions\n",
      "Problem Z4/Z1 has 202 accepted C submissions\n",
      "Problem Z4/Z2 has 179 accepted C submissions\n",
      "Problem Z4/Z3 has 154 accepted C submissions\n",
      "Problem Z4/Z4 has 127 accepted C submissions\n",
      "Problem Z5/Z1 has 222 accepted C submissions\n",
      "Problem Z5/Z2 has 55 accepted C submissions\n",
      "Problem Z5/Z3 has 58 accepted C submissions\n"
     ]
    }
   ],
   "source": [
    "VL_problems = assemble_data()"
   ]
  },
  {
   "cell_type": "code",
   "execution_count": 21,
   "metadata": {},
   "outputs": [
    {
     "name": "stdout",
     "output_type": "stream",
     "text": [
      "             id                                               code  \\\n",
      "0    Z5-Z3-2210  #include <stdio.h>\\n#include <string.h>\\n#defi...   \n",
      "1    Z5-Z3-8317  #include <stdio.h>\\n#include <stdlib.h>\\n#defi...   \n",
      "2    Z5-Z3-4290  #include <stdio.h>\\n#include <string.h>\\n#defi...   \n",
      "3    Z5-Z3-5222  #include <stdio.h>\\n#include <string.h>\\n#defi...   \n",
      "4    Z5-Z3-9458  #include <stdio.h>\\n#define KAPACITET 200\\nstr...   \n",
      "..          ...                                                ...   \n",
      "175  Z1-Z1-5399  #include <stdio.h>\\n\\nint main() {\\n\\t\\n\\tfloa...   \n",
      "176  Z1-Z1-9097  #include <stdio.h>\\n\\nint main() {\\n\\tdouble p...   \n",
      "177  Z1-Z1-8199  #include <stdio.h>\\n\\nint main() {\\n\\t\\n\\tdoub...   \n",
      "178  Z1-Z1-7678  #include <stdio.h>\\n\\nint main() {\\n\\t\\n\\tdoub...   \n",
      "179  Z1-Z1-7665  #include <stdio.h>\\n#include<math.h>\\n#define ...   \n",
      "\n",
      "    actual label  \n",
      "0          human  \n",
      "1          human  \n",
      "2          human  \n",
      "3          human  \n",
      "4          human  \n",
      "..           ...  \n",
      "175        human  \n",
      "176        human  \n",
      "177        human  \n",
      "178        human  \n",
      "179        human  \n",
      "\n",
      "[180 rows x 3 columns]\n"
     ]
    }
   ],
   "source": [
    "print(VL_problems)\n",
    "VL_problems.to_pickle('../data/human-written/vl.code.pkl')"
   ]
  },
  {
   "cell_type": "code",
   "execution_count": 11,
   "metadata": {},
   "outputs": [
    {
     "name": "stdout",
     "output_type": "stream",
     "text": [
      "Z5-Z3-2210\n",
      "('Z5', 'Z3')\n"
     ]
    }
   ],
   "source": [
    "print(VL_problems.loc[0].id)\n",
    "print(re.match(\"(Z\\d)-(Z\\d)-\\d+\", VL_problems.loc[0].id, re.DOTALL).groups())"
   ]
  },
  {
   "cell_type": "code",
   "execution_count": null,
   "metadata": {},
   "outputs": [],
   "source": []
  }
 ],
 "metadata": {
  "kernelspec": {
   "display_name": "venv",
   "language": "python",
   "name": "python3"
  },
  "language_info": {
   "codemirror_mode": {
    "name": "ipython",
    "version": 3
   },
   "file_extension": ".py",
   "mimetype": "text/x-python",
   "name": "python",
   "nbconvert_exporter": "python",
   "pygments_lexer": "ipython3",
   "version": "3.11.9"
  }
 },
 "nbformat": 4,
 "nbformat_minor": 2
}
