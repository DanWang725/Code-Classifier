{
 "cells": [
  {
   "cell_type": "code",
   "execution_count": null,
   "id": "5aa8f2b3-3c2e-46bd-bf3f-951d6a3a56a7",
   "metadata": {},
   "outputs": [],
   "source": [
    "from ollama import chat\n",
    "from ollama import ChatResponse\n",
    "import os\n",
    "import sys\n",
    "import re\n",
    "import pandas as pd\n",
    "import tqdm as tqdm\n",
    "from transformers import AutoModel, AutoTokenizer\n",
    "import torch\n",
    "import pickle\n",
    "from sklearn.neural_network import MLPClassifier\n",
    "codenet_dir = \"datasets/Project_CodeNet\"\n",
    "data_output_dir = \"data/human-written\"\n",
    "problem_output_dir = \"data/ai-code\""
   ]
  },
  {
   "cell_type": "markdown",
   "id": "b865ff15-05a8-45d8-a821-4899d3a77674",
   "metadata": {
    "jp-MarkdownHeadingCollapsed": true
   },
   "source": [
    "# Testing Chat"
   ]
  },
  {
   "cell_type": "code",
   "execution_count": null,
   "id": "7476d0e4-27cd-4432-bef2-958bc4a73fb0",
   "metadata": {},
   "outputs": [],
   "source": [
    "file = open(\"../datasets/VedranLjubovic/chosen/Z1-Z1-4647.c\", \"r\")\n",
    "code = \"\\n\".join(file.readlines())"
   ]
  },
  {
   "cell_type": "code",
   "execution_count": null,
   "id": "5a114a71",
   "metadata": {},
   "outputs": [],
   "source": [
    "codeProblems = pd.read_pickle(problem_output_dir + \"/codenet-full-1.pbm.pkl\")\n",
    "problem = codeProblems.loc[39]['question']\n",
    "print(problem)"
   ]
  },
  {
   "cell_type": "code",
   "execution_count": null,
   "id": "13b9e04a",
   "metadata": {},
   "outputs": [],
   "source": [
    "response = chat(model='llama3.1', messages=[ #14b\n",
    "  {\n",
    "  'role': 'system',\n",
    "  'content': 'Write only C language code for the given coding question'},\n",
    "{\n",
    "  'role': 'user',\n",
    "  'content': problem,\n",
    "},\n",
    "\n",
    "])\n",
    "print(response)"
   ]
  },
  {
   "cell_type": "code",
   "execution_count": null,
   "id": "089105ee-3877-413d-93f0-bd1e0c5a6a55",
   "metadata": {},
   "outputs": [],
   "source": [
    "response = chat(model='deepseek-r1:14b', messages=[\n",
    "        {\n",
    "            'role': 'user',\n",
    "            'content': \"\"\"Generate a first-year university assignment question that aligns with the following code written by a student. The code may deviate from the original assignment requirements, so avoid focusing on specific details like variable names. Instead, derive a general problem statement that captures the core concept and intended learning outcomes of the assignment.\n",
    "\n",
    "Write the assignment question in clear, structured English, formatted into paragraphs, providing clear learning outcomes. Additionally, provide a brief summary of the assignment to give an overview of its purpose.\n",
    "Please respond with only a single JSON object and no additional text. The JSON object should contain two fields: 'Assignment' and 'Summary'. The 'Assignment' field should contain the assignment question, and the 'Summary' field should contain a brief summary of the assignment.\"\"\" + code,\n",
    "        },\n",
    "    ])"
   ]
  },
  {
   "cell_type": "code",
   "execution_count": null,
   "id": "3fc12d96-0faa-43fe-95df-8dada587cc86",
   "metadata": {
    "scrolled": true
   },
   "outputs": [],
   "source": [
    "print(response)"
   ]
  },
  {
   "cell_type": "markdown",
   "id": "9b3df32f-edc1-4286-92db-9b79946c163f",
   "metadata": {
    "jp-MarkdownHeadingCollapsed": true
   },
   "source": [
    "# Testing Processing Data (regex)"
   ]
  },
  {
   "cell_type": "code",
   "execution_count": null,
   "id": "7328508d-65d7-448e-ba86-8cfa48194265",
   "metadata": {},
   "outputs": [],
   "source": [
    "sampleResponse = \"\"\"\n",
    "<think>\n",
    "Okay, so I have to generate a university assignment question based on the provided code. Let me first try to understand what the code is doing.\n",
    "\n",
    "Looking at the code, it seems like it's reading multiple scores for different students: Tarik, Bojan, and Mirza. Each has an \"I parcijalni ispit\" (first partial exam), \"II parcijalni ispit\" (second partial exam), Prisustvo (attendance), Zadace (assignment), and Zavrsni ispit (final exam). The code calculates total scores for each student by summing these components. Then, it computes overall grades based on these totals using specific grade thresholds.\n",
    "\n",
    "The main function calculates three variables: bb for Bojan's total, bm for Mirza's, and bt for Tarik's. Each of these is checked against ranges to determine the final grade (ob, om, ot respectively). The code then checks if all three students have passed by seeing if their grades are above 5. It also handles cases where some but not all have passed or where they all pass with possibly different grades.\n",
    "\n",
    "So, the assignment question should reflect this structure: reading scores for each exam point, calculating totals, determining final grades based on those totals, and then evaluating the results to see how many students have passed and their relative performance.\n",
    "\n",
    "I need to make sure the assignment is clear in English, broken into paragraphs, and surrounded by 'EOF'. It should include reading specific variables, checking validity of inputs, calculating totals, assigning grades, and analyzing the results.    \n",
    "</think>\n",
    "asdfjadslkjf\n",
    "---a\n",
    "asdfasd\n",
    "asdfasdf\n",
    "---\n",
    "sdfds\n",
    "\"\"\"\n",
    "\n",
    "sample2 = \"\"\"hello?\"\"\""
   ]
  },
  {
   "cell_type": "code",
   "execution_count": null,
   "id": "6ae2dd0d-dea6-4b78-bb49-08e332347938",
   "metadata": {
    "scrolled": true
   },
   "outputs": [],
   "source": [
    "matches = re.search(r'<think>(.*?)</think>.*?---(.*?)---', sampleResponse, re.DOTALL)\n",
    "print(matches[2])"
   ]
  },
  {
   "cell_type": "code",
   "execution_count": null,
   "id": "85cd2113-c39c-4a8f-85f5-f4ffbb836e2c",
   "metadata": {},
   "outputs": [],
   "source": [
    "matches = re.search(r'h([el]*)', sample2)\n",
    "print(matches.groups())"
   ]
  },
  {
   "cell_type": "markdown",
   "id": "304e9afa-7a6b-442b-b597-e21eb70857ae",
   "metadata": {},
   "source": [
    "# Testing Data Importing (pandas)"
   ]
  },
  {
   "cell_type": "code",
   "execution_count": null,
   "id": "7ef7db9c-53de-41ff-9ad7-1e4d4c1e357b",
   "metadata": {},
   "outputs": [],
   "source": [
    "# init\n",
    "source = pd.DataFrame(columns=['question', 'identifier'])"
   ]
  },
  {
   "cell_type": "code",
   "execution_count": null,
   "id": "50000363-df9f-462c-9ebb-0569fd876fdb",
   "metadata": {},
   "outputs": [],
   "source": [
    "print(source)"
   ]
  },
  {
   "cell_type": "code",
   "execution_count": null,
   "id": "c518c4c8-6a24-4ef2-b5e2-a1f6d38f6d2c",
   "metadata": {},
   "outputs": [],
   "source": [
    "# inserting\n",
    "source.loc[-1] = ['test', 'id2']\n",
    "source.index = source.index + 1  # shifting index\n",
    "source = source.sort_index()  # sorting by index\n"
   ]
  },
  {
   "cell_type": "code",
   "execution_count": null,
   "id": "59b5e150-9771-420e-b95b-903689ad9ca0",
   "metadata": {},
   "outputs": [],
   "source": [
    "source.loc[(source['identifier'] == 'id2'), 'question'] = \"something2\"\n",
    "print(source.loc[(source['identifier'] == 'id2')])"
   ]
  },
  {
   "cell_type": "code",
   "execution_count": null,
   "id": "7e9b7221-876b-4097-820c-827fafe1c059",
   "metadata": {},
   "outputs": [],
   "source": [
    "print(source.loc[(source['identifier'] == 'id3')].empty)\n"
   ]
  },
  {
   "cell_type": "code",
   "execution_count": null,
   "id": "806fef91-bda6-426d-94fb-5571fca9d957",
   "metadata": {
    "scrolled": true
   },
   "outputs": [],
   "source": [
    "source.insert(-1,['testingg', 'id5'])\n"
   ]
  },
  {
   "cell_type": "markdown",
   "id": "a3a6b3e8",
   "metadata": {},
   "source": [
    "# Testing (transformers)"
   ]
  },
  {
   "cell_type": "code",
   "execution_count": null,
   "id": "c9164e43",
   "metadata": {},
   "outputs": [],
   "source": [
    "merged = pd.read_pickle(\"data/prepared/code.pkl\")\n",
    "print(merged)"
   ]
  },
  {
   "cell_type": "code",
   "execution_count": null,
   "id": "41999af8",
   "metadata": {},
   "outputs": [],
   "source": [
    "\n",
    "print(f\"Loaded code. Count: {merged.shape}\")\n",
    "embeddings = merged['code'].tolist()\n",
    "output = merged['label'].to_frame()\n",
    "for index, row in merged.iterrows():\n",
    "  embeddings[index] = index\n",
    "\n",
    "output['embeddings'] = embeddings\n",
    "print(output)"
   ]
  },
  {
   "cell_type": "code",
   "execution_count": null,
   "id": "7f6f1df2",
   "metadata": {},
   "outputs": [],
   "source": []
  },
  {
   "cell_type": "markdown",
   "id": "59dc4440",
   "metadata": {},
   "source": [
    "# Testing (embeddings)"
   ]
  },
  {
   "cell_type": "code",
   "execution_count": null,
   "id": "e929c201",
   "metadata": {},
   "outputs": [],
   "source": [
    "embed = pd.read_pickle(\"data/prepared/embeddings.pkl\")"
   ]
  },
  {
   "cell_type": "code",
   "execution_count": null,
   "id": "821251ab",
   "metadata": {},
   "outputs": [],
   "source": [
    "print(embed)"
   ]
  },
  {
   "cell_type": "code",
   "execution_count": null,
   "id": "3490e9fe",
   "metadata": {},
   "outputs": [],
   "source": []
  },
  {
   "cell_type": "markdown",
   "id": "e4d9ab32",
   "metadata": {},
   "source": [
    "# testing Questions"
   ]
  },
  {
   "cell_type": "code",
   "execution_count": null,
   "id": "2b12b8fc",
   "metadata": {},
   "outputs": [],
   "source": [
    "questions = pd.read_pickle(\"data/ai-code/questions.pkl\")\n",
    "print(questions)"
   ]
  },
  {
   "cell_type": "code",
   "execution_count": null,
   "id": "84924869",
   "metadata": {},
   "outputs": [],
   "source": []
  },
  {
   "cell_type": "markdown",
   "id": "cc18706f",
   "metadata": {},
   "source": [
    "# Testing Models"
   ]
  },
  {
   "cell_type": "code",
   "execution_count": null,
   "id": "75a71159",
   "metadata": {},
   "outputs": [],
   "source": [
    "model_path = \"data/models-nn.file\"\n",
    "file = open(model_path, \"rb\")\n",
    "model = pickle.load(file)"
   ]
  },
  {
   "cell_type": "code",
   "execution_count": null,
   "id": "e7e0b97f",
   "metadata": {},
   "outputs": [],
   "source": [
    "print(model['code_'][0].get_params())\n",
    "print(MLPClassifier().get_params())"
   ]
  },
  {
   "cell_type": "code",
   "execution_count": null,
   "id": "33302790",
   "metadata": {},
   "outputs": [],
   "source": [
    "oj = pd.read_pickle(\"datasets/test/programs.pkl\")\n",
    "print(oj)"
   ]
  },
  {
   "cell_type": "code",
   "execution_count": null,
   "id": "de97438b",
   "metadata": {},
   "outputs": [],
   "source": [
    "code = pd.read_pickle(\"data/ai-code/codenet-14b.code.pkl\")\n",
    "print(code)\n",
    "thing = code['code'].tolist()\n",
    "print(thing[0])"
   ]
  },
  {
   "cell_type": "code",
   "execution_count": null,
   "id": "9edc6c14",
   "metadata": {},
   "outputs": [],
   "source": [
    "code2 = pd.read_pickle(\"../data/prepared/codenet-codebert.emb.pkl\")\n",
    "print(code2)"
   ]
  },
  {
   "cell_type": "code",
   "execution_count": null,
   "id": "4578599b",
   "metadata": {},
   "outputs": [],
   "source": [
    "code2['code_embeddings'] = code2['code_embeddings'].apply(lambda x: x.flatten().tolist() if x is not None else None)\n",
    "print(code2)"
   ]
  },
  {
   "cell_type": "code",
   "execution_count": null,
   "id": "4b54914c",
   "metadata": {},
   "outputs": [],
   "source": [
    "code_file = pd.read_pickle('data/ai-code/codenet-gemini-1.emb.pkl')\n",
    "print(code_file)"
   ]
  },
  {
   "cell_type": "code",
   "execution_count": null,
   "id": "c9a724c4",
   "metadata": {},
   "outputs": [],
   "source": [
    "ai_stat = len(code_file.loc[(code_file['actual label'] == 'ai')]['actual label'].tolist())\n",
    "human_stat = len(code_file.loc[(code_file['actual label'] == 'human')]['actual label'].tolist())\n",
    "print(ai_stat, human_stat)"
   ]
  },
  {
   "cell_type": "code",
   "execution_count": null,
   "id": "639e45fb",
   "metadata": {},
   "outputs": [],
   "source": [
    "tokenizer = AutoTokenizer.from_pretrained('neulab/codebert-c', trust_remote_code=True)\n",
    "model:AutoModel = AutoModel.from_pretrained('neulab/codebert-c', trust_remote_code=True).to('cuda')"
   ]
  },
  {
   "cell_type": "code",
   "execution_count": null,
   "id": "f2aa2b49",
   "metadata": {},
   "outputs": [],
   "source": [
    "tokens = tokenizer.tokenize(\"\"\"\n",
    "\n",
    "void printAPoint (struct Point arr5 [MAX]) {\n",
    "    for (int i = 1; i <= MAX; i++) {\n",
    "        printf(\"Point %d: \\n\", i);\n",
    "        printf(\"X-Coordinate = %d \\n\", arr5[i-1].x);\n",
    "        printf(\"Y-Coordinate = %d \\n\", arr5[i-1].y);\n",
    "\n",
    "        // formatting stuff\n",
    "        if (i != MAX) {\n",
    "            printf(\"\\n\");\n",
    "        }\n",
    "    }\n",
    "}\"\"\")\n",
    "token_ids = tokenizer.convert_tokens_to_ids(tokens)\n",
    "print(len(tokenizer))\n"
   ]
  },
  {
   "cell_type": "code",
   "execution_count": null,
   "id": "87cba919",
   "metadata": {},
   "outputs": [],
   "source": [
    "context_embeddings = model(torch.tensor(token_ids).to('cuda')[None,:])[0]\n",
    "print(context_embeddings.cpu().detach().numpy())"
   ]
  },
  {
   "cell_type": "code",
   "execution_count": null,
   "id": "d46e41b9",
   "metadata": {},
   "outputs": [],
   "source": []
  },
  {
   "cell_type": "code",
   "execution_count": null,
   "id": "4649916f",
   "metadata": {},
   "outputs": [],
   "source": []
  }
 ],
 "metadata": {
  "kernelspec": {
   "display_name": "venv",
   "language": "python",
   "name": "python3"
  },
  "language_info": {
   "codemirror_mode": {
    "name": "ipython",
    "version": 3
   },
   "file_extension": ".py",
   "mimetype": "text/x-python",
   "name": "python",
   "nbconvert_exporter": "python",
   "pygments_lexer": "ipython3",
   "version": "3.11.9"
  }
 },
 "nbformat": 4,
 "nbformat_minor": 5
}
