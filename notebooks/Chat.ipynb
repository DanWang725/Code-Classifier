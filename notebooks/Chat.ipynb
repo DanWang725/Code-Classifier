{
 "cells": [
  {
   "cell_type": "code",
   "execution_count": 1,
   "id": "5aa8f2b3-3c2e-46bd-bf3f-951d6a3a56a7",
   "metadata": {},
   "outputs": [],
   "source": [
    "from ollama import chat\n",
    "from ollama import ChatResponse\n",
    "import os\n",
    "import sys\n",
    "import re\n",
    "import pandas as pd\n",
    "import tqdm as tqdm\n",
    "from transformers import AutoModel, AutoTokenizer\n",
    "import torch\n",
    "import pickle\n",
    "from sklearn.neural_network import MLPClassifier\n"
   ]
  },
  {
   "cell_type": "markdown",
   "id": "b865ff15-05a8-45d8-a821-4899d3a77674",
   "metadata": {
    "jp-MarkdownHeadingCollapsed": true
   },
   "source": [
    "# Testing Chat"
   ]
  },
  {
   "cell_type": "code",
   "execution_count": 3,
   "id": "7476d0e4-27cd-4432-bef2-958bc4a73fb0",
   "metadata": {},
   "outputs": [],
   "source": [
    "file = open(\"../datasets/VedranLjubovic/chosen/Z1-Z1-4647.c\", \"r\")\n",
    "code = \"\\n\".join(file.readlines())"
   ]
  },
  {
   "cell_type": "code",
   "execution_count": 4,
   "id": "089105ee-3877-413d-93f0-bd1e0c5a6a55",
   "metadata": {},
   "outputs": [],
   "source": [
    "response = chat(model='deepseek-r1:14b', messages=[\n",
    "        {\n",
    "            'role': 'user',\n",
    "            'content': \"\"\"Generate a first-year university assignment question that aligns with the following code written by a student. The code may deviate from the original assignment requirements, so avoid focusing on specific details like variable names. Instead, derive a general problem statement that captures the core concept and intended learning outcomes of the assignment.\n",
    "\n",
    "Write the assignment question in clear, structured English, formatted into paragraphs, providing clear learning outcomes. Additionally, provide a brief summary of the assignment to give an overview of its purpose.\n",
    "Please respond with only a single JSON object and no additional text. The JSON object should contain two fields: 'Assignment' and 'Summary'. The 'Assignment' field should contain the assignment question, and the 'Summary' field should contain a brief summary of the assignment.\"\"\" + code,\n",
    "        },\n",
    "    ])"
   ]
  },
  {
   "cell_type": "code",
   "execution_count": 5,
   "id": "3fc12d96-0faa-43fe-95df-8dada587cc86",
   "metadata": {
    "scrolled": true
   },
   "outputs": [
    {
     "name": "stdout",
     "output_type": "stream",
     "text": [
      "model='deepseek-r1:14b' created_at='2025-03-04T03:25:59.1902979Z' done=True done_reason='stop' total_duration=131339204800 load_duration=13572400 prompt_eval_count=1768 prompt_eval_duration=3025000000 eval_count=1117 eval_duration=128299000000 message=Message(role='assistant', content=\"<think>\\nOkay, so the user provided a C program that calculates final grades for three students based on their scores. I need to generate an assignment question that aligns with this code but without focusing on specific details like variable names. \\n\\nFirst, I should figure out what the main functionality of the code is. It looks like it's taking various inputs such as partial exam scores, attendance, homework, and final exam for each student. Then, it calculates a total score for each and determines their final grade based on that total.\\n\\nThe program also has some logic to check how many students passed (score above 55) and whether any have the same grades or all different. So, the core concept is about processing multiple input values, performing calculations, and then applying conditional checks to determine outcomes.\\n\\nI need to frame this into a learning outcome. The assignment should probably focus on data validation since the code has several checks for valid scores (like ensuring inputs are within specific ranges). It also involves organizing and calculating data, which ties into handling multiple student records.\\n\\nThe intended learning outcomes would likely include understanding input/output operations, conditional statements, loops, and maybe even functions in C. But since it's a first-year assignment, perhaps the focus is on basic programming constructs rather than more advanced topics.\\n\\nSo, the assignment question should ask students to create a program that processes academic data for multiple students. They need to handle inputs with validation, calculate totals, determine final grades, and then analyze how many passed or if any have the same grades.\\n\\nI should make sure the problem is clear but allows some creativity in implementation. Maybe specify that they should use functions to modularize their code, which would be a good practice. Also, including data validation ensures they handle edge cases, making the program robust.\\n\\nPutting it all together, the assignment should cover input handling, conditional logic, and perhaps some basic functions, while the solution will involve structuring the code to manage multiple student records efficiently.\\n</think>\\n\\n### Assignment Question:\\n\\n**Title:** Student Grade Calculation System  \\n\\n**Objective:**  \\nCreate a program that reads academic data for three students, validates the inputs, calculates their final grades based on specific criteria, and determines how many students passed or failed. The program should also analyze whether any students received the same grade or not.  \\n\\n**Problem Statement:**  \\nYour task is to write a C program that performs the following functions:  \\n\\n1. **Input Handling:**  \\n   - Read academic data for three students, including scores from partial exams, attendance, homework assignments, and final exams.  \\n   - Ensure all inputs are valid (e.g., within specified ranges).  \\n\\n2. **Grade Calculation:**  \\n   - Calculate a total score for each student based on the provided criteria.  \\n   - Determine the final grade for each student using predefined thresholds.  \\n\\n3. **Analysis of Results:**  \\n   - Check how many students passed (i.e., their final grade is above a certain threshold).  \\n   - Identify if any students received the same grade or if all grades are different.  \\n\\n4. **Output Results:**  \\n   - Display the final grades for each student and whether they passed or failed.  \\n   - Print additional information about shared grades or unique grades among the students.  \\n\\n**Learning Outcomes:**  \\n- Understand how to read and validate input data in C.  \\n- Learn to organize and process multiple data records (students).  \\n- Practice using conditional statements and loops for decision-making.  \\n- Develop skills in modularizing code using functions.  \\n\\n**Instructions:**  \\n1. **Data Validation:** Ensure that all inputs are within valid ranges before processing. For example, scores should be between 0 and 100.  \\n2. **Grade Calculation:** Use the following criteria to calculate the final grade:  \\n   - If total score is less than 55, the student gets a failing grade (F).  \\n   - Grades range from A (92-100) down to E (55-64), with each grade corresponding to specific score ranges.  \\n3. **Analysis:** After calculating grades for all students, determine how many passed and whether any shared the same grade or not.  \\n\\n**Expected Output Format:**  \\nThe program should output:  \\n- Final grades for each student.  \\n- A message indicating how many students passed or failed.  \\n- Additional messages about shared grades (if applicable).  \\n\\n---\\n\\n### Example Use Case:  \\nSuppose you have three students with scores as follows:  \\n- Student 1: Partial exams = 70, Attendance = 80, Homework = 60, Final exam = 90  \\n- Student 2: Partial exams = 50, Attendance = 90, Homework = 70, Final exam = 85  \\n- Student 3: Partial exams = 45, Attendance = 75, Homework = 80, Final exam = 75  \\n\\nYour program should calculate their final grades and determine whether they passed or failed. Additionally, it should check if any students shared the same grade.  \\n\\n---\\n\\n### Submission Requirements:  \\n- Write a well-structured C program that implements all the above functionalities.  \\n- Include comments in your code to explain complex sections.  \\n- Ensure your program handles edge cases (e.g., invalid inputs).  \\n\\n**Note:** This assignment is designed to reinforce your understanding of basic programming concepts such as input/output, conditional statements, and loops while also testing your ability to handle multiple data records.\", images=None, tool_calls=None)\n"
     ]
    }
   ],
   "source": [
    "print(response)"
   ]
  },
  {
   "cell_type": "markdown",
   "id": "9b3df32f-edc1-4286-92db-9b79946c163f",
   "metadata": {
    "jp-MarkdownHeadingCollapsed": true
   },
   "source": [
    "# Testing Processing Data (regex)"
   ]
  },
  {
   "cell_type": "code",
   "execution_count": 77,
   "id": "7328508d-65d7-448e-ba86-8cfa48194265",
   "metadata": {},
   "outputs": [],
   "source": [
    "sampleResponse = \"\"\"\n",
    "<think>\n",
    "Okay, so I have to generate a university assignment question based on the provided code. Let me first try to understand what the code is doing.\n",
    "\n",
    "Looking at the code, it seems like it's reading multiple scores for different students: Tarik, Bojan, and Mirza. Each has an \"I parcijalni ispit\" (first partial exam), \"II parcijalni ispit\" (second partial exam), Prisustvo (attendance), Zadace (assignment), and Zavrsni ispit (final exam). The code calculates total scores for each student by summing these components. Then, it computes overall grades based on these totals using specific grade thresholds.\n",
    "\n",
    "The main function calculates three variables: bb for Bojan's total, bm for Mirza's, and bt for Tarik's. Each of these is checked against ranges to determine the final grade (ob, om, ot respectively). The code then checks if all three students have passed by seeing if their grades are above 5. It also handles cases where some but not all have passed or where they all pass with possibly different grades.\n",
    "\n",
    "So, the assignment question should reflect this structure: reading scores for each exam point, calculating totals, determining final grades based on those totals, and then evaluating the results to see how many students have passed and their relative performance.\n",
    "\n",
    "I need to make sure the assignment is clear in English, broken into paragraphs, and surrounded by 'EOF'. It should include reading specific variables, checking validity of inputs, calculating totals, assigning grades, and analyzing the results.    \n",
    "</think>\n",
    "asdfjadslkjf\n",
    "---a\n",
    "asdfasd\n",
    "asdfasdf\n",
    "---\n",
    "sdfds\n",
    "\"\"\"\n",
    "\n",
    "sample2 = \"\"\"hello?\"\"\""
   ]
  },
  {
   "cell_type": "code",
   "execution_count": 92,
   "id": "6ae2dd0d-dea6-4b78-bb49-08e332347938",
   "metadata": {
    "scrolled": true
   },
   "outputs": [
    {
     "name": "stdout",
     "output_type": "stream",
     "text": [
      "a\n",
      "asdfasd\n",
      "asdfasdf\n",
      "\n"
     ]
    }
   ],
   "source": [
    "matches = re.search(r'<think>(.*?)</think>.*?---(.*?)---', sampleResponse, re.DOTALL)\n",
    "print(matches[2])"
   ]
  },
  {
   "cell_type": "code",
   "execution_count": 70,
   "id": "85cd2113-c39c-4a8f-85f5-f4ffbb836e2c",
   "metadata": {},
   "outputs": [
    {
     "name": "stdout",
     "output_type": "stream",
     "text": [
      "('ell',)\n"
     ]
    }
   ],
   "source": [
    "matches = re.search(r'h([el]*)', sample2)\n",
    "print(matches.groups())"
   ]
  },
  {
   "cell_type": "markdown",
   "id": "304e9afa-7a6b-442b-b597-e21eb70857ae",
   "metadata": {},
   "source": [
    "# Testing Data Importing (pandas)"
   ]
  },
  {
   "cell_type": "code",
   "execution_count": null,
   "id": "7ef7db9c-53de-41ff-9ad7-1e4d4c1e357b",
   "metadata": {},
   "outputs": [],
   "source": [
    "# init\n",
    "source = pd.DataFrame(columns=['question', 'identifier'])"
   ]
  },
  {
   "cell_type": "code",
   "execution_count": null,
   "id": "50000363-df9f-462c-9ebb-0569fd876fdb",
   "metadata": {},
   "outputs": [
    {
     "name": "stdout",
     "output_type": "stream",
     "text": [
      "    question identifier\n",
      "0  something        id2\n"
     ]
    }
   ],
   "source": [
    "print(source)"
   ]
  },
  {
   "cell_type": "code",
   "execution_count": null,
   "id": "c518c4c8-6a24-4ef2-b5e2-a1f6d38f6d2c",
   "metadata": {},
   "outputs": [],
   "source": [
    "# inserting\n",
    "source.loc[-1] = ['test', 'id2']\n",
    "source.index = source.index + 1  # shifting index\n",
    "source = source.sort_index()  # sorting by index\n"
   ]
  },
  {
   "cell_type": "code",
   "execution_count": null,
   "id": "59b5e150-9771-420e-b95b-903689ad9ca0",
   "metadata": {},
   "outputs": [
    {
     "name": "stdout",
     "output_type": "stream",
     "text": [
      "     question identifier\n",
      "0  something2        id2\n"
     ]
    }
   ],
   "source": [
    "source.loc[(source['identifier'] == 'id2'), 'question'] = \"something2\"\n",
    "print(source.loc[(source['identifier'] == 'id2')])"
   ]
  },
  {
   "cell_type": "code",
   "execution_count": null,
   "id": "7e9b7221-876b-4097-820c-827fafe1c059",
   "metadata": {},
   "outputs": [
    {
     "name": "stdout",
     "output_type": "stream",
     "text": [
      "True\n"
     ]
    }
   ],
   "source": [
    "print(source.loc[(source['identifier'] == 'id3')].empty)\n"
   ]
  },
  {
   "cell_type": "code",
   "execution_count": null,
   "id": "806fef91-bda6-426d-94fb-5571fca9d957",
   "metadata": {
    "scrolled": true
   },
   "outputs": [
    {
     "ename": "TypeError",
     "evalue": "DataFrame.insert() missing 1 required positional argument: 'value'",
     "output_type": "error",
     "traceback": [
      "\u001b[31m---------------------------------------------------------------------------\u001b[39m",
      "\u001b[31mTypeError\u001b[39m                                 Traceback (most recent call last)",
      "\u001b[36mCell\u001b[39m\u001b[36m \u001b[39m\u001b[32mIn[40]\u001b[39m\u001b[32m, line 1\u001b[39m\n\u001b[32m----> \u001b[39m\u001b[32m1\u001b[39m \u001b[43msource\u001b[49m\u001b[43m.\u001b[49m\u001b[43minsert\u001b[49m\u001b[43m(\u001b[49m\u001b[43m-\u001b[49m\u001b[32;43m1\u001b[39;49m\u001b[43m,\u001b[49m\u001b[43m[\u001b[49m\u001b[33;43m'\u001b[39;49m\u001b[33;43mtestingg\u001b[39;49m\u001b[33;43m'\u001b[39;49m\u001b[43m,\u001b[49m\u001b[43m \u001b[49m\u001b[33;43m'\u001b[39;49m\u001b[33;43mid5\u001b[39;49m\u001b[33;43m'\u001b[39;49m\u001b[43m]\u001b[49m\u001b[43m)\u001b[49m\n",
      "\u001b[31mTypeError\u001b[39m: DataFrame.insert() missing 1 required positional argument: 'value'"
     ]
    }
   ],
   "source": [
    "source.insert(-1,['testingg', 'id5'])\n"
   ]
  },
  {
   "cell_type": "markdown",
   "id": "a3a6b3e8",
   "metadata": {},
   "source": [
    "# Testing (transformers)"
   ]
  },
  {
   "cell_type": "code",
   "execution_count": 17,
   "id": "c9164e43",
   "metadata": {},
   "outputs": [
    {
     "name": "stdout",
     "output_type": "stream",
     "text": [
      "                                                  code  label\n",
      "0    #include <stdio.h>\\n\\n#include <string.h>\\n\\n#...  human\n",
      "1    #include <stdio.h>\\n\\n#include <string.h>\\n\\n#...  human\n",
      "2    #include <stdio.h>\\n\\n#include <math.h>\\n\\n#in...  human\n",
      "3    #include <stdio.h>\\n\\n#include <ctype.h>\\n\\n#i...  human\n",
      "4    #include <stdio.h>\\n\\n#include <stdlib.h>\\n\\n#...  human\n",
      "..                                                 ...    ...\n",
      "101  \\n#include <stdio.h>\\n#include <stdlib.h>\\n\\ni...    llm\n",
      "102  pp\\n#include <iostream>\\n#include <sstream>\\n#...    llm\n",
      "103  \\nint a, b, c;\\nscanf(\"%d%d%d\", &a, &b, &c);\\n...    llm\n",
      "104  \\n#include <stdio.h>\\n#include <stdlib.h>\\n#in...    llm\n",
      "105  \\n#include <stdio.h>\\n\\nint main() {\\n    char...    llm\n",
      "\n",
      "[106 rows x 2 columns]\n"
     ]
    }
   ],
   "source": [
    "merged = pd.read_pickle(\"data/prepared/code.pkl\")\n",
    "print(merged)"
   ]
  },
  {
   "cell_type": "code",
   "execution_count": 18,
   "id": "41999af8",
   "metadata": {},
   "outputs": [
    {
     "name": "stdout",
     "output_type": "stream",
     "text": [
      "Loaded code. Count: (106, 2)\n",
      "     label  embeddings\n",
      "0    human           0\n",
      "1    human           1\n",
      "2    human           2\n",
      "3    human           3\n",
      "4    human           4\n",
      "..     ...         ...\n",
      "101    llm         101\n",
      "102    llm         102\n",
      "103    llm         103\n",
      "104    llm         104\n",
      "105    llm         105\n",
      "\n",
      "[106 rows x 2 columns]\n"
     ]
    }
   ],
   "source": [
    "\n",
    "print(f\"Loaded code. Count: {merged.shape}\")\n",
    "embeddings = merged['code'].tolist()\n",
    "output = merged['label'].to_frame()\n",
    "for index, row in merged.iterrows():\n",
    "  embeddings[index] = index\n",
    "\n",
    "output['embeddings'] = embeddings\n",
    "print(output)"
   ]
  },
  {
   "cell_type": "code",
   "execution_count": null,
   "id": "7f6f1df2",
   "metadata": {},
   "outputs": [],
   "source": []
  },
  {
   "cell_type": "markdown",
   "id": "59dc4440",
   "metadata": {},
   "source": [
    "# Testing (embeddings)"
   ]
  },
  {
   "cell_type": "code",
   "execution_count": 22,
   "id": "e929c201",
   "metadata": {},
   "outputs": [],
   "source": [
    "embed = pd.read_pickle(\"data/prepared/embeddings.pkl\")"
   ]
  },
  {
   "cell_type": "code",
   "execution_count": 23,
   "id": "821251ab",
   "metadata": {},
   "outputs": [
    {
     "name": "stdout",
     "output_type": "stream",
     "text": [
      "    actual label                                    code_embeddings\n",
      "0          human  [tensor(0.0473), tensor(0.0058), tensor(-0.105...\n",
      "1          human  [tensor(0.0279), tensor(0.0271), tensor(-0.131...\n",
      "2          human  [tensor(0.0167), tensor(0.0246), tensor(-0.155...\n",
      "3          human  [tensor(0.0357), tensor(0.0082), tensor(-0.140...\n",
      "4          human  [tensor(0.0058), tensor(-0.0067), tensor(-0.14...\n",
      "..           ...                                                ...\n",
      "101          llm  [tensor(-0.0508), tensor(-0.0017), tensor(-0.1...\n",
      "102          llm  [tensor(-0.0224), tensor(0.0025), tensor(-0.05...\n",
      "103          llm  [tensor(-0.0389), tensor(0.0448), tensor(-0.05...\n",
      "104          llm  [tensor(-0.0577), tensor(0.0204), tensor(-0.16...\n",
      "105          llm  [tensor(-0.0310), tensor(0.0079), tensor(-0.07...\n",
      "\n",
      "[106 rows x 2 columns]\n"
     ]
    }
   ],
   "source": [
    "print(embed)"
   ]
  },
  {
   "cell_type": "code",
   "execution_count": null,
   "id": "3490e9fe",
   "metadata": {},
   "outputs": [],
   "source": []
  },
  {
   "cell_type": "markdown",
   "id": "e4d9ab32",
   "metadata": {},
   "source": [
    "# testing Questions"
   ]
  },
  {
   "cell_type": "code",
   "execution_count": null,
   "id": "2b12b8fc",
   "metadata": {},
   "outputs": [],
   "source": [
    "questions = pd.read_pickle(\"data/ai-code/questions.pkl\")\n",
    "print(questions)"
   ]
  },
  {
   "cell_type": "code",
   "execution_count": null,
   "id": "84924869",
   "metadata": {},
   "outputs": [],
   "source": []
  },
  {
   "cell_type": "markdown",
   "id": "cc18706f",
   "metadata": {},
   "source": [
    "# Testing Models"
   ]
  },
  {
   "cell_type": "code",
   "execution_count": 7,
   "id": "75a71159",
   "metadata": {},
   "outputs": [],
   "source": [
    "model_path = \"data/models-nn.file\"\n",
    "file = open(model_path, \"rb\")\n",
    "model = pickle.load(file)"
   ]
  },
  {
   "cell_type": "code",
   "execution_count": 11,
   "id": "e7e0b97f",
   "metadata": {},
   "outputs": [
    {
     "name": "stdout",
     "output_type": "stream",
     "text": [
      "{'activation': 'relu', 'alpha': 0.0001, 'batch_size': 'auto', 'beta_1': 0.9, 'beta_2': 0.999, 'early_stopping': False, 'epsilon': 1e-08, 'hidden_layer_sizes': (100,), 'learning_rate': 'constant', 'learning_rate_init': 0.001, 'max_fun': 15000, 'max_iter': 200, 'momentum': 0.9, 'n_iter_no_change': 10, 'nesterovs_momentum': True, 'power_t': 0.5, 'random_state': None, 'shuffle': True, 'solver': 'adam', 'tol': 0.0001, 'validation_fraction': 0.1, 'verbose': False, 'warm_start': False}\n",
      "{'activation': 'relu', 'alpha': 0.0001, 'batch_size': 'auto', 'beta_1': 0.9, 'beta_2': 0.999, 'early_stopping': False, 'epsilon': 1e-08, 'hidden_layer_sizes': (100,), 'learning_rate': 'constant', 'learning_rate_init': 0.001, 'max_fun': 15000, 'max_iter': 200, 'momentum': 0.9, 'n_iter_no_change': 10, 'nesterovs_momentum': True, 'power_t': 0.5, 'random_state': None, 'shuffle': True, 'solver': 'adam', 'tol': 0.0001, 'validation_fraction': 0.1, 'verbose': False, 'warm_start': False}\n"
     ]
    }
   ],
   "source": [
    "print(model['code_'][0].get_params())\n",
    "print(MLPClassifier().get_params())"
   ]
  },
  {
   "cell_type": "code",
   "execution_count": 3,
   "id": "33302790",
   "metadata": {},
   "outputs": [
    {
     "name": "stdout",
     "output_type": "stream",
     "text": [
      "           0                                                  1   2\n",
      "0          0  int main()\\n{\\n\\tint a;\\n\\tint bai,wushi,ershi...  97\n",
      "1          1  int main()\\n{\\n    int m,x100,x50,x20,x10,x5,x...  97\n",
      "2          2  int main()\\n{\\n    int n,i,shuzu[111],count1=0...  97\n",
      "3          3  int main()\\n{\\n\\tint n,a1=0,a2=0,a3=0,a4=0,a5=...  97\n",
      "4          4  int main()\\n{\\n\\tint n,a,b,c,d,e,f;\\n\\ta=0;b=0...  97\n",
      "...      ...                                                ...  ..\n",
      "51996  51996  int topjudge(int a[][20],int m,int n,int p,int...  72\n",
      "51997  51997  int main()\\n{\\n    int m,n;\\n    cin>>m>>n;\\n ...  72\n",
      "51998  51998  void sort (int *data,int n)\\n{\\n     int i,j,*...  72\n",
      "51999  51999  void main()\\n{\\n\\tint m,n,i,j,a[20][20],b[20][...  72\n",
      "52000  52000  int main()\\n{\\n\\tint s[100][100],m,n,i,j,k,l;\\...  72\n",
      "\n",
      "[52001 rows x 3 columns]\n"
     ]
    }
   ],
   "source": [
    "oj = pd.read_pickle(\"datasets/test/programs.pkl\")\n",
    "print(oj)"
   ]
  },
  {
   "cell_type": "code",
   "execution_count": 17,
   "id": "de97438b",
   "metadata": {},
   "outputs": [
    {
     "name": "stdout",
     "output_type": "stream",
     "text": [
      "  identifier                                               code actual label\n",
      "0     p04030  #include <stdio.h>\\n\\nint main() {\\n    char b...           ai\n",
      "1     p03242  #include <stdio.h>\\n\\nint main() {\\n    int n;...           ai\n",
      "2     p03001  #include <stdio.h>\\n#include <stdlib.h>\\n#incl...           ai\n",
      "3     p02971                                               None    ai-failed\n",
      "4     p02407  #include <stdio.h>\\n\\nint main() {\\n    int n;...           ai\n",
      "5     p02400  #include <stdio.h>\\n\\nint main() {\\n    double...           ai\n",
      "6     p02256  #include <stdio.h>\\n\\nint main() {\\n    int a,...           ai\n",
      "7     p00002  #include <stdio.h>\\n\\nint main() {\\n    int a,...           ai\n",
      "#include <stdio.h>\n",
      "\n",
      "int main() {\n",
      "    char buffer[20];\n",
      "    int top = 0;\n",
      "\n",
      "    char c;\n",
      "    while ((c = getchar()) != '\\n' && c != EOF) {\n",
      "        if (c == '0' || c == '1') {\n",
      "            if (top < 20) {\n",
      "                buffer[top++] = c;\n",
      "            }\n",
      "        } else {\n",
      "            if (top > 0) {\n",
      "                top--;\n",
      "            }\n",
      "        }\n",
      "    }\n",
      "\n",
      "    buffer[top] = '\\0';\n",
      "    puts(buffer);\n",
      "    return 0;\n",
      "}\n",
      "\n"
     ]
    }
   ],
   "source": [
    "code = pd.read_pickle(\"data/ai-code/codenet-14b.code.pkl\")\n",
    "print(code)\n",
    "thing = code['code'].tolist()\n",
    "print(thing[0])"
   ]
  },
  {
   "cell_type": "code",
   "execution_count": 27,
   "id": "9edc6c14",
   "metadata": {},
   "outputs": [
    {
     "name": "stdout",
     "output_type": "stream",
     "text": [
      "   actual label                                    code_embeddings\n",
      "51        human  [-0.0010866094, -0.014708949, -0.056743935, -0...\n",
      "61        human  [-0.022720896, 0.02549858, -0.063253075, 0.005...\n",
      "36        human  [-0.037212994, 0.079306334, -0.048354577, 0.05...\n",
      "93          llm  [-0.0019667156, 0.03843533, -0.06323702, 0.007...\n",
      "73        human  [-0.040071465, 0.0051495354, -0.056042094, -0....\n",
      "70        human  [-0.026629213, 0.022276266, -0.030905021, -0.0...\n",
      "62        human  [-0.032478448, 0.032909617, -0.059994373, -0.0...\n",
      "30        human  [-0.053434443, 0.042813323, -0.07148988, 0.072...\n",
      "45        human  [-0.031213911, -0.0077929166, -0.050019678, 0....\n",
      "2         human  [-0.023581663, 0.03130884, -0.06990072, -0.013...\n"
     ]
    }
   ],
   "source": [
    "code2 = pd.read_pickle(\"data/prepared/codenet.test.emb.pkl\")\n",
    "print(code2)"
   ]
  },
  {
   "cell_type": "code",
   "execution_count": null,
   "id": "4b54914c",
   "metadata": {},
   "outputs": [],
   "source": []
  }
 ],
 "metadata": {
  "kernelspec": {
   "display_name": "Python 3 (ipykernel)",
   "language": "python",
   "name": "python3"
  },
  "language_info": {
   "codemirror_mode": {
    "name": "ipython",
    "version": 3
   },
   "file_extension": ".py",
   "mimetype": "text/x-python",
   "name": "python",
   "nbconvert_exporter": "python",
   "pygments_lexer": "ipython3",
   "version": "3.11.9"
  }
 },
 "nbformat": 4,
 "nbformat_minor": 5
}
